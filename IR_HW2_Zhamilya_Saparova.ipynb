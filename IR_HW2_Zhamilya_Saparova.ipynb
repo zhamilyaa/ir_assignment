{
  "nbformat": 4,
  "nbformat_minor": 0,
  "metadata": {
    "colab": {
      "provenance": []
    },
    "kernelspec": {
      "name": "python3",
      "display_name": "Python 3"
    },
    "language_info": {
      "name": "python"
    }
  },
  "cells": [
    {
      "cell_type": "markdown",
      "source": [
        "## HW2 - Zhamilya Saparova\n"
      ],
      "metadata": {
        "id": "0VgVRgNIiH1q"
      }
    },
    {
      "cell_type": "code",
      "source": [
        "pip install elasticsearch"
      ],
      "metadata": {
        "colab": {
          "base_uri": "https://localhost:8080/"
        },
        "id": "2YRTbdQBiW-d",
        "outputId": "8c81f404-99c1-4dc8-806c-41a4719f9acd"
      },
      "execution_count": 117,
      "outputs": [
        {
          "output_type": "stream",
          "name": "stdout",
          "text": [
            "Looking in indexes: https://pypi.org/simple, https://us-python.pkg.dev/colab-wheels/public/simple/\n",
            "Requirement already satisfied: elasticsearch in /usr/local/lib/python3.9/dist-packages (8.6.2)\n",
            "Requirement already satisfied: elastic-transport<9,>=8 in /usr/local/lib/python3.9/dist-packages (from elasticsearch) (8.4.0)\n",
            "Requirement already satisfied: certifi in /usr/local/lib/python3.9/dist-packages (from elastic-transport<9,>=8->elasticsearch) (2022.12.7)\n",
            "Requirement already satisfied: urllib3<2,>=1.26.2 in /usr/local/lib/python3.9/dist-packages (from elastic-transport<9,>=8->elasticsearch) (1.26.15)\n"
          ]
        }
      ]
    },
    {
      "cell_type": "code",
      "source": [
        "pip install ir_measures"
      ],
      "metadata": {
        "colab": {
          "base_uri": "https://localhost:8080/"
        },
        "id": "e9T6D_5p7pX2",
        "outputId": "ed263574-fd64-423e-8b1d-1b82477342d4"
      },
      "execution_count": 118,
      "outputs": [
        {
          "output_type": "stream",
          "name": "stdout",
          "text": [
            "Looking in indexes: https://pypi.org/simple, https://us-python.pkg.dev/colab-wheels/public/simple/\n",
            "Requirement already satisfied: ir_measures in /usr/local/lib/python3.9/dist-packages (0.3.1)\n",
            "Requirement already satisfied: pytrec-eval-terrier>=0.5.2 in /usr/local/lib/python3.9/dist-packages (from ir_measures) (0.5.5)\n",
            "Requirement already satisfied: cwl-eval>=1.0.10 in /usr/local/lib/python3.9/dist-packages (from ir_measures) (1.0.12)\n",
            "Requirement already satisfied: numpy in /usr/local/lib/python3.9/dist-packages (from cwl-eval>=1.0.10->ir_measures) (1.22.4)\n"
          ]
        }
      ]
    },
    {
      "cell_type": "code",
      "source": [
        "%config IPCompleter.greedy=True\n",
        "import re\n",
        "import json\n",
        "from collections import defaultdict\n",
        "from tqdm import tqdm_notebook as tqdm\n",
        "from elasticsearch import Elasticsearch\n",
        "from elasticsearch.helpers import parallel_bulk\n",
        "from pymystem3 import Mystem\n",
        "from sklearn.feature_extraction.text import CountVectorizer\n",
        "import requests\n",
        "from time import time\n",
        "import pandas as pd\n",
        "import numpy as np\n",
        "import ir_measures\n",
        "from ir_measures import *"
      ],
      "metadata": {
        "id": "-xwHRYXGN4d7"
      },
      "execution_count": 119,
      "outputs": []
    },
    {
      "cell_type": "code",
      "execution_count": 120,
      "metadata": {
        "colab": {
          "base_uri": "https://localhost:8080/"
        },
        "id": "nOsfe4JSsyMD",
        "outputId": "46cd9ab8-306f-4998-df95-8b48bc98b982"
      },
      "outputs": [
        {
          "output_type": "stream",
          "name": "stdout",
          "text": [
            "Connection to ES Server successful\n"
          ]
        }
      ],
      "source": [
        "es = Elasticsearch(\"http://localhost:9200\")\n",
        "ELASTIC_PASSWORD = 'EW3FiZs3r32l9yYhvwWklUVN'\n",
        "\n",
        "CLOUD_ID = 'IR_2_search:dXMtY2VudHJhbDEuZ2NwLmNsb3VkLmVzLmlvOjQ0MyRkZTFhZjVhMzYxYmU0M2ZlODkwYTZkNGJkYjE0YjYwMiQ4Y2U3NWNkZWMyOTU0NWYzYjBmZDM5ZWM5MDgyNTgwZg=='\n",
        "es = Elasticsearch(cloud_id = CLOUD_ID, basic_auth=('elastic', ELASTIC_PASSWORD))\n",
        "\n",
        "print(\"Connection to ES Server successful\")"
      ]
    },
    {
      "cell_type": "code",
      "source": [
        "es.indices.delete(index='hello')"
      ],
      "metadata": {
        "colab": {
          "base_uri": "https://localhost:8080/"
        },
        "id": "_lc-ONRM-8va",
        "outputId": "fdf63821-ac7a-480c-f19b-b905542a959a"
      },
      "execution_count": 121,
      "outputs": [
        {
          "output_type": "execute_result",
          "data": {
            "text/plain": [
              "ObjectApiResponse({'acknowledged': True})"
            ]
          },
          "metadata": {},
          "execution_count": 121
        }
      ]
    },
    {
      "cell_type": "code",
      "source": [
        "es.indices.create(index='hello')"
      ],
      "metadata": {
        "colab": {
          "base_uri": "https://localhost:8080/"
        },
        "id": "uhV_AsFVooKO",
        "outputId": "1d587de8-69c2-42ae-f5ac-6aff375a899d"
      },
      "execution_count": 122,
      "outputs": [
        {
          "output_type": "execute_result",
          "data": {
            "text/plain": [
              "ObjectApiResponse({'acknowledged': True, 'shards_acknowledged': True, 'index': 'hello'})"
            ]
          },
          "metadata": {},
          "execution_count": 122
        }
      ]
    },
    {
      "cell_type": "code",
      "source": [
        "settings_final = {\n",
        "    'mappings': {\n",
        "        'properties': {\n",
        "            'id_right': {\n",
        "                'type': 'integer'\n",
        "            },\n",
        "            'text_right': {\n",
        "                'type': 'text',\n",
        "                'fields': {\n",
        "                    'white':{\n",
        "                        'type': 'text',\n",
        "                        'analyzer': 'white_analyzer'\n",
        "                    }\n",
        "                }\n",
        "            }\n",
        "        }\n",
        "    },\n",
        "    'settings': {\n",
        "        'analysis': {\n",
        "            'analyzer': {\n",
        "                'white_analyzer':{\n",
        "                    'tokenizer': 'white_20',\n",
        "                    'filter': [\n",
        "                        'lowercase',\n",
        "                        'snowball_eng'\n",
        "                    ]\n",
        "                }\n",
        "            },\n",
        "            'tokenizer': {\n",
        "                'white_20': {\n",
        "                    'type': 'whitespace',\n",
        "                }\n",
        "            },\n",
        "            'filter': {\n",
        "                'snowball_eng':{\n",
        "                    'type': 'snowball',\n",
        "                    'language': 'english'\n",
        "                }\n",
        "            }\n",
        "        }\n",
        "    }\n",
        "    \n",
        "}"
      ],
      "metadata": {
        "id": "sorv7Z9BxmW5"
      },
      "execution_count": 123,
      "outputs": []
    },
    {
      "cell_type": "code",
      "source": [
        "settings_final_nostem = {\n",
        "    'mappings': {\n",
        "        'properties': {\n",
        "            'id_right': {\n",
        "                'type': 'integer'\n",
        "            },\n",
        "            'text_right': {\n",
        "                'type': 'text',\n",
        "                'fields': {\n",
        "                    'white':{\n",
        "                        'type': 'text',\n",
        "                        'analyzer': 'white_analyzer'\n",
        "                    }\n",
        "                }\n",
        "            },\n",
        "        }\n",
        "    },\n",
        "    'settings': {\n",
        "        'analysis': {\n",
        "            'analyzer': {\n",
        "                'white_analyzer':{\n",
        "                    'tokenizer': 'white_20',\n",
        "                    'filter': [\n",
        "                        'lowercase',\n",
        "                    ]\n",
        "                }\n",
        "            },\n",
        "            'tokenizer': {\n",
        "                'white_20': {\n",
        "                    'type': 'whitespace',\n",
        "                }\n",
        "            },\n",
        "        }\n",
        "    }\n",
        "}"
      ],
      "metadata": {
        "id": "Lcaw6YAjxnxf"
      },
      "execution_count": 124,
      "outputs": []
    },
    {
      "cell_type": "code",
      "source": [
        "def recreate_index():\n",
        "    es.indices.delete(index='hello')\n",
        "    es.indices.create(index='hello', body = settings_final)"
      ],
      "metadata": {
        "id": "cUQ-gN0ZF3wq"
      },
      "execution_count": 125,
      "outputs": []
    },
    {
      "cell_type": "code",
      "source": [
        "def recreate_index_nostem():\n",
        "    es.indices.delete(index='hello')\n",
        "    es.indices.create(index='hello', body = settings_final_nostem)"
      ],
      "metadata": {
        "id": "tXHlaQ_LF-Yo"
      },
      "execution_count": 126,
      "outputs": []
    },
    {
      "cell_type": "code",
      "source": [
        "def check_analyzer(analyzer, text):\n",
        "    body = analyzer\n",
        "    body['text'] = text\n",
        "    \n",
        "    tokens = es.indices.analyze(index='hello', body=body)['tokens']\n",
        "    tokens = [token_info['token'] for token_info in tokens]\n",
        "    return tokens"
      ],
      "metadata": {
        "id": "gvfXm6uIGCGO"
      },
      "execution_count": 127,
      "outputs": []
    },
    {
      "cell_type": "code",
      "source": [
        "# recreate_index()"
      ],
      "metadata": {
        "id": "Ml054HV8g44A"
      },
      "execution_count": null,
      "outputs": []
    },
    {
      "cell_type": "code",
      "source": [
        "recreate_index_nostem()"
      ],
      "metadata": {
        "colab": {
          "base_uri": "https://localhost:8080/"
        },
        "id": "w1Md6i8RtlWY",
        "outputId": "46c4fa19-02dd-4aa0-b071-b38bde8fcd2c"
      },
      "execution_count": 128,
      "outputs": [
        {
          "output_type": "stream",
          "name": "stderr",
          "text": [
            "<ipython-input-126-8cc1ef7b44ce>:3: DeprecationWarning: The 'body' parameter is deprecated and will be removed in a future version. Instead use individual parameters.\n",
            "  es.indices.create(index='hello', body = settings_final_nostem)\n"
          ]
        }
      ]
    },
    {
      "cell_type": "markdown",
      "source": [
        "## INDEX DOCUMENTS"
      ],
      "metadata": {
        "id": "Ice9OkrZzMgk"
      }
    },
    {
      "cell_type": "code",
      "source": [
        "doc_df = pd.read_csv('/content/documents.csv')\n",
        "doc = doc_df.to_dict('records')"
      ],
      "metadata": {
        "id": "O4AGJ47VGhj8"
      },
      "execution_count": 129,
      "outputs": []
    },
    {
      "cell_type": "code",
      "source": [
        "type(doc), len(doc), type(doc_df), doc_df.shape"
      ],
      "metadata": {
        "colab": {
          "base_uri": "https://localhost:8080/"
        },
        "id": "Xsl6kqG0xPJi",
        "outputId": "0eabe42a-26af-441c-d262-5a7455bde6bd"
      },
      "execution_count": 130,
      "outputs": [
        {
          "output_type": "execute_result",
          "data": {
            "text/plain": [
              "(list, 369721, pandas.core.frame.DataFrame, (369721, 2))"
            ]
          },
          "metadata": {},
          "execution_count": 130
        }
      ]
    },
    {
      "cell_type": "code",
      "source": [
        "doc_df.head()"
      ],
      "metadata": {
        "colab": {
          "base_uri": "https://localhost:8080/",
          "height": 204
        },
        "id": "ex-6xWJPi8l5",
        "outputId": "80dfe2bf-799d-4837-81d1-e4816f6cff4a"
      },
      "execution_count": 131,
      "outputs": [
        {
          "output_type": "execute_result",
          "data": {
            "text/plain": [
              "   id_right                                         text_right\n",
              "0   1781133  it was used in landing craft during world war ...\n",
              "1   2426736  after rejecting an offer from cambridge univer...\n",
              "2   2224122  mat zan coached kuala lumpur fa in 1999 and wo...\n",
              "3    219642  a barcode is a machine readable optical label ...\n",
              "4   1728654  since the subordination of the monarchy under ..."
            ],
            "text/html": [
              "\n",
              "  <div id=\"df-2bc2514f-4681-45ad-b383-5cf5e3139437\">\n",
              "    <div class=\"colab-df-container\">\n",
              "      <div>\n",
              "<style scoped>\n",
              "    .dataframe tbody tr th:only-of-type {\n",
              "        vertical-align: middle;\n",
              "    }\n",
              "\n",
              "    .dataframe tbody tr th {\n",
              "        vertical-align: top;\n",
              "    }\n",
              "\n",
              "    .dataframe thead th {\n",
              "        text-align: right;\n",
              "    }\n",
              "</style>\n",
              "<table border=\"1\" class=\"dataframe\">\n",
              "  <thead>\n",
              "    <tr style=\"text-align: right;\">\n",
              "      <th></th>\n",
              "      <th>id_right</th>\n",
              "      <th>text_right</th>\n",
              "    </tr>\n",
              "  </thead>\n",
              "  <tbody>\n",
              "    <tr>\n",
              "      <th>0</th>\n",
              "      <td>1781133</td>\n",
              "      <td>it was used in landing craft during world war ...</td>\n",
              "    </tr>\n",
              "    <tr>\n",
              "      <th>1</th>\n",
              "      <td>2426736</td>\n",
              "      <td>after rejecting an offer from cambridge univer...</td>\n",
              "    </tr>\n",
              "    <tr>\n",
              "      <th>2</th>\n",
              "      <td>2224122</td>\n",
              "      <td>mat zan coached kuala lumpur fa in 1999 and wo...</td>\n",
              "    </tr>\n",
              "    <tr>\n",
              "      <th>3</th>\n",
              "      <td>219642</td>\n",
              "      <td>a barcode is a machine readable optical label ...</td>\n",
              "    </tr>\n",
              "    <tr>\n",
              "      <th>4</th>\n",
              "      <td>1728654</td>\n",
              "      <td>since the subordination of the monarchy under ...</td>\n",
              "    </tr>\n",
              "  </tbody>\n",
              "</table>\n",
              "</div>\n",
              "      <button class=\"colab-df-convert\" onclick=\"convertToInteractive('df-2bc2514f-4681-45ad-b383-5cf5e3139437')\"\n",
              "              title=\"Convert this dataframe to an interactive table.\"\n",
              "              style=\"display:none;\">\n",
              "        \n",
              "  <svg xmlns=\"http://www.w3.org/2000/svg\" height=\"24px\"viewBox=\"0 0 24 24\"\n",
              "       width=\"24px\">\n",
              "    <path d=\"M0 0h24v24H0V0z\" fill=\"none\"/>\n",
              "    <path d=\"M18.56 5.44l.94 2.06.94-2.06 2.06-.94-2.06-.94-.94-2.06-.94 2.06-2.06.94zm-11 1L8.5 8.5l.94-2.06 2.06-.94-2.06-.94L8.5 2.5l-.94 2.06-2.06.94zm10 10l.94 2.06.94-2.06 2.06-.94-2.06-.94-.94-2.06-.94 2.06-2.06.94z\"/><path d=\"M17.41 7.96l-1.37-1.37c-.4-.4-.92-.59-1.43-.59-.52 0-1.04.2-1.43.59L10.3 9.45l-7.72 7.72c-.78.78-.78 2.05 0 2.83L4 21.41c.39.39.9.59 1.41.59.51 0 1.02-.2 1.41-.59l7.78-7.78 2.81-2.81c.8-.78.8-2.07 0-2.86zM5.41 20L4 18.59l7.72-7.72 1.47 1.35L5.41 20z\"/>\n",
              "  </svg>\n",
              "      </button>\n",
              "      \n",
              "  <style>\n",
              "    .colab-df-container {\n",
              "      display:flex;\n",
              "      flex-wrap:wrap;\n",
              "      gap: 12px;\n",
              "    }\n",
              "\n",
              "    .colab-df-convert {\n",
              "      background-color: #E8F0FE;\n",
              "      border: none;\n",
              "      border-radius: 50%;\n",
              "      cursor: pointer;\n",
              "      display: none;\n",
              "      fill: #1967D2;\n",
              "      height: 32px;\n",
              "      padding: 0 0 0 0;\n",
              "      width: 32px;\n",
              "    }\n",
              "\n",
              "    .colab-df-convert:hover {\n",
              "      background-color: #E2EBFA;\n",
              "      box-shadow: 0px 1px 2px rgba(60, 64, 67, 0.3), 0px 1px 3px 1px rgba(60, 64, 67, 0.15);\n",
              "      fill: #174EA6;\n",
              "    }\n",
              "\n",
              "    [theme=dark] .colab-df-convert {\n",
              "      background-color: #3B4455;\n",
              "      fill: #D2E3FC;\n",
              "    }\n",
              "\n",
              "    [theme=dark] .colab-df-convert:hover {\n",
              "      background-color: #434B5C;\n",
              "      box-shadow: 0px 1px 3px 1px rgba(0, 0, 0, 0.15);\n",
              "      filter: drop-shadow(0px 1px 2px rgba(0, 0, 0, 0.3));\n",
              "      fill: #FFFFFF;\n",
              "    }\n",
              "  </style>\n",
              "\n",
              "      <script>\n",
              "        const buttonEl =\n",
              "          document.querySelector('#df-2bc2514f-4681-45ad-b383-5cf5e3139437 button.colab-df-convert');\n",
              "        buttonEl.style.display =\n",
              "          google.colab.kernel.accessAllowed ? 'block' : 'none';\n",
              "\n",
              "        async function convertToInteractive(key) {\n",
              "          const element = document.querySelector('#df-2bc2514f-4681-45ad-b383-5cf5e3139437');\n",
              "          const dataTable =\n",
              "            await google.colab.kernel.invokeFunction('convertToInteractive',\n",
              "                                                     [key], {});\n",
              "          if (!dataTable) return;\n",
              "\n",
              "          const docLinkHtml = 'Like what you see? Visit the ' +\n",
              "            '<a target=\"_blank\" href=https://colab.research.google.com/notebooks/data_table.ipynb>data table notebook</a>'\n",
              "            + ' to learn more about interactive tables.';\n",
              "          element.innerHTML = '';\n",
              "          dataTable['output_type'] = 'display_data';\n",
              "          await google.colab.output.renderOutput(dataTable, element);\n",
              "          const docLink = document.createElement('div');\n",
              "          docLink.innerHTML = docLinkHtml;\n",
              "          element.appendChild(docLink);\n",
              "        }\n",
              "      </script>\n",
              "    </div>\n",
              "  </div>\n",
              "  "
            ]
          },
          "metadata": {},
          "execution_count": 131
        }
      ]
    },
    {
      "cell_type": "code",
      "source": [
        "def create_es_action(index, doc_id, document):\n",
        "    return {\n",
        "        '_index': index,\n",
        "        '_id': doc_id,\n",
        "        '_source': document\n",
        "    }"
      ],
      "metadata": {
        "id": "naeSgrcCSzhz"
      },
      "execution_count": 132,
      "outputs": []
    },
    {
      "cell_type": "code",
      "source": [
        "def es_actions_generator():\n",
        "    for doc_id in doc:\n",
        "        yield create_es_action('hello', doc_id['id_right'], doc_id)"
      ],
      "metadata": {
        "id": "YaeoQWOTS0Z0"
      },
      "execution_count": 133,
      "outputs": []
    },
    {
      "cell_type": "code",
      "source": [
        "# ADDING DOCS TO THE INDEX\n",
        "%%time \n",
        "for ok, result in parallel_bulk(es, es_actions_generator(), queue_size=4, thread_count=4, chunk_size=1000):\n",
        "    if not ok:\n",
        "        print(result)"
      ],
      "metadata": {
        "id": "T_3pMkHCyg-d",
        "colab": {
          "base_uri": "https://localhost:8080/"
        },
        "outputId": "9e520559-3146-4895-f2c3-d4bb4a062b7f"
      },
      "execution_count": 142,
      "outputs": [
        {
          "output_type": "stream",
          "name": "stdout",
          "text": [
            "CPU times: user 1min 21s, sys: 497 ms, total: 1min 22s\n",
            "Wall time: 1min 38s\n"
          ]
        }
      ]
    },
    {
      "cell_type": "markdown",
      "source": [
        "## SEARCH\n"
      ],
      "metadata": {
        "id": "e_zm1HmbJPwR"
      }
    },
    {
      "cell_type": "code",
      "source": [
        "def search(query, *args):\n",
        "    pretty_print_result(es.search(index='hello', body=query, size=20), args)\n",
        "                        \n",
        "def pretty_print_result(search_result, fields=[]):\n",
        "    res = search_result['hits']\n",
        "    print(f'Total documents: {res[\"total\"][\"value\"]}')\n",
        "    for hit in res['hits']:\n",
        "        print(f'Doc {hit[\"_id\"]}, score is {hit[\"_score\"]}')\n",
        "        for field in fields:\n",
        "            print(f'{field}: {hit[\"_source\"][field]}')\n",
        "                  \n",
        "def get_doc_by_id(doc_id):\n",
        "    return es.get(index='hello', id=doc_id)['_source']"
      ],
      "metadata": {
        "id": "vr6WztEWzXN2"
      },
      "execution_count": 143,
      "outputs": []
    },
    {
      "cell_type": "code",
      "source": [
        "%%time \n",
        "\n",
        "query = {\n",
        "    'query': {\n",
        "        'match_all': {}\n",
        "    }\n",
        "}\n",
        "search(query)"
      ],
      "metadata": {
        "colab": {
          "base_uri": "https://localhost:8080/"
        },
        "id": "YHPbojMyyhA2",
        "outputId": "91c1c361-58fe-4a98-f70a-9001f0fdc0cc"
      },
      "execution_count": 136,
      "outputs": [
        {
          "output_type": "stream",
          "name": "stderr",
          "text": [
            "<ipython-input-135-fae58037f7d9>:2: DeprecationWarning: The 'body' parameter is deprecated and will be removed in a future version. Instead use individual parameters.\n",
            "  pretty_print_result(es.search(index='hello', body=query, size=20), args)\n"
          ]
        },
        {
          "output_type": "stream",
          "name": "stdout",
          "text": [
            "Total documents: 10000\n",
            "Doc 1989806, score is 1.0\n",
            "Doc 666954, score is 1.0\n",
            "Doc 854184, score is 1.0\n",
            "Doc 2339707, score is 1.0\n",
            "Doc 2277293, score is 1.0\n",
            "Doc 1410326, score is 1.0\n",
            "Doc 1050121, score is 1.0\n",
            "Doc 1313260, score is 1.0\n",
            "Doc 905119, score is 1.0\n",
            "Doc 991693, score is 1.0\n",
            "Doc 2159376, score is 1.0\n",
            "Doc 1016236, score is 1.0\n",
            "Doc 2249596, score is 1.0\n",
            "Doc 1636859, score is 1.0\n",
            "Doc 2062306, score is 1.0\n",
            "Doc 368504, score is 1.0\n",
            "Doc 2387543, score is 1.0\n",
            "Doc 2432898, score is 1.0\n",
            "Doc 234130, score is 1.0\n",
            "Doc 495680, score is 1.0\n",
            "CPU times: user 131 ms, sys: 4.19 ms, total: 135 ms\n",
            "Wall time: 5.35 s\n"
          ]
        }
      ]
    },
    {
      "cell_type": "code",
      "source": [
        "%%time\n",
        "\n",
        "query = {\n",
        "    'query': {\n",
        "        'bool': {\n",
        "            'must': {\n",
        "                'match': {\n",
        "                    'text_right': 'private boats'\n",
        "                }\n",
        "            }\n",
        "        }\n",
        "    }\n",
        "}\n",
        "\n",
        "search(query)"
      ],
      "metadata": {
        "colab": {
          "base_uri": "https://localhost:8080/"
        },
        "id": "u9H1UGKZBh4N",
        "outputId": "0fcd3374-4286-4b6a-c90b-1bd3d0d63b82"
      },
      "execution_count": 137,
      "outputs": [
        {
          "output_type": "stream",
          "name": "stderr",
          "text": [
            "<ipython-input-135-fae58037f7d9>:2: DeprecationWarning: The 'body' parameter is deprecated and will be removed in a future version. Instead use individual parameters.\n",
            "  pretty_print_result(es.search(index='hello', body=query, size=20), args)\n"
          ]
        },
        {
          "output_type": "stream",
          "name": "stdout",
          "text": [
            "Total documents: 10000\n",
            "Doc 2355214, score is 13.976819\n",
            "Doc 644717, score is 13.686264\n",
            "Doc 1596321, score is 13.1172695\n",
            "Doc 2412578, score is 12.66897\n",
            "Doc 352785, score is 12.558475\n",
            "Doc 1272069, score is 12.242398\n",
            "Doc 1226233, score is 12.007725\n",
            "Doc 1856656, score is 12.007725\n",
            "Doc 880419, score is 12.007725\n",
            "Doc 919902, score is 12.007725\n",
            "Doc 1879751, score is 12.007725\n",
            "Doc 1110284, score is 11.860317\n",
            "Doc 1329021, score is 10.934549\n",
            "Doc 2029858, score is 10.934549\n",
            "Doc 1714910, score is 10.934549\n",
            "Doc 1964437, score is 10.934549\n",
            "Doc 551366, score is 10.934549\n",
            "Doc 885487, score is 10.934549\n",
            "Doc 2075473, score is 10.934549\n",
            "Doc 1185710, score is 10.884844\n",
            "CPU times: user 144 ms, sys: 11.2 ms, total: 155 ms\n",
            "Wall time: 10 s\n"
          ]
        }
      ]
    },
    {
      "cell_type": "code",
      "source": [
        "import datetime\n",
        "import time\n",
        "q = pd.read_csv('/content/queries.csv')\n",
        "q = q.to_dict('records')\n",
        "runs = dict()\n",
        "for i in range(len(q)):\n",
        "  st = time.time()\n",
        "  queries = dict()\n",
        "  query = {\n",
        "        'query': {\n",
        "            'bool': {\n",
        "                'must': {\n",
        "                    'match': {\n",
        "                        'text_right': q[i]['text_left']\n",
        "                    }\n",
        "                }\n",
        "            }\n",
        "        }\n",
        "    }\n",
        "  search_results = es.search(index = 'hello', body = query, size = 20)\n",
        "  res = search_results['hits']\n",
        "  for hit in res['hits']:\n",
        "    doc_id = str(hit['_id'])\n",
        "    score = float(hit['_score'])\n",
        "    query_id = i\n",
        "    queries[doc_id] = score\n",
        "  runs[str(q[i]['id_left'])] = queries\n",
        "  et = time.time()\n",
        "  elapsed_time = et - st\n",
        "  print(query_id, '\\t', elapsed_time)\n"
      ],
      "metadata": {
        "colab": {
          "base_uri": "https://localhost:8080/"
        },
        "id": "-u-uDSJbIIlP",
        "outputId": "5293f0b4-32ff-48bc-e296-8b975d53ee7e"
      },
      "execution_count": 138,
      "outputs": [
        {
          "output_type": "stream",
          "name": "stdout",
          "text": [
            "0 \t 0.03603792190551758\n",
            "1 \t 0.029225826263427734\n",
            "2 \t 0.03914070129394531\n",
            "3 \t 0.03237342834472656\n"
          ]
        },
        {
          "output_type": "stream",
          "name": "stderr",
          "text": [
            "<ipython-input-138-a68b554ae5e3>:20: DeprecationWarning: The 'body' parameter is deprecated and will be removed in a future version. Instead use individual parameters.\n",
            "  search_results = es.search(index = 'hello', body = query, size = 20)\n"
          ]
        },
        {
          "output_type": "stream",
          "name": "stdout",
          "text": [
            "4 \t 0.03465890884399414\n",
            "5 \t 0.03167247772216797\n",
            "6 \t 0.04415273666381836\n",
            "7 \t 0.029502153396606445\n",
            "8 \t 0.033792734146118164\n",
            "9 \t 0.028650999069213867\n",
            "10 \t 0.03186488151550293\n",
            "11 \t 0.03462529182434082\n",
            "12 \t 0.03092789649963379\n",
            "13 \t 0.03533315658569336\n",
            "13 \t 0.02958965301513672\n",
            "15 \t 0.028217315673828125\n",
            "16 \t 0.029741287231445312\n",
            "17 \t 0.039865732192993164\n",
            "18 \t 0.03797483444213867\n",
            "19 \t 0.04868674278259277\n",
            "20 \t 0.029242515563964844\n",
            "21 \t 0.034291982650756836\n",
            "22 \t 0.04587244987487793\n",
            "23 \t 0.031708717346191406\n",
            "24 \t 0.0346677303314209\n",
            "25 \t 0.040158748626708984\n",
            "26 \t 0.030676841735839844\n",
            "27 \t 0.036947011947631836\n",
            "28 \t 0.030858516693115234\n",
            "29 \t 0.03109884262084961\n",
            "30 \t 0.036988258361816406\n",
            "31 \t 0.03349113464355469\n",
            "32 \t 0.03130054473876953\n",
            "33 \t 0.03111124038696289\n",
            "34 \t 0.038622379302978516\n",
            "35 \t 0.03138089179992676\n",
            "36 \t 0.03227567672729492\n",
            "37 \t 0.03508877754211426\n",
            "38 \t 0.03201794624328613\n",
            "39 \t 0.03369545936584473\n",
            "40 \t 0.030934572219848633\n",
            "41 \t 0.033418893814086914\n",
            "42 \t 0.031966209411621094\n",
            "43 \t 0.04033184051513672\n",
            "44 \t 0.04038667678833008\n",
            "45 \t 0.030933618545532227\n",
            "46 \t 0.029776334762573242\n",
            "47 \t 0.035564422607421875\n",
            "48 \t 0.0315854549407959\n",
            "49 \t 0.03287696838378906\n",
            "50 \t 0.04239463806152344\n",
            "51 \t 0.028980016708374023\n",
            "52 \t 0.039524078369140625\n",
            "53 \t 0.030904054641723633\n",
            "54 \t 0.036863088607788086\n",
            "55 \t 0.03415346145629883\n",
            "56 \t 0.03524971008300781\n",
            "57 \t 0.0315241813659668\n",
            "58 \t 0.03411436080932617\n",
            "59 \t 0.029647350311279297\n",
            "60 \t 0.030272245407104492\n",
            "61 \t 0.03161764144897461\n",
            "62 \t 0.044069766998291016\n",
            "63 \t 0.03041386604309082\n",
            "64 \t 0.03069305419921875\n",
            "65 \t 0.028967857360839844\n",
            "66 \t 0.031037330627441406\n",
            "67 \t 0.035881996154785156\n",
            "68 \t 0.03141045570373535\n",
            "69 \t 0.038411617279052734\n",
            "70 \t 0.0286867618560791\n",
            "71 \t 0.03453230857849121\n",
            "72 \t 0.029332637786865234\n",
            "73 \t 0.03375053405761719\n",
            "74 \t 0.0325930118560791\n",
            "75 \t 0.02815413475036621\n",
            "76 \t 0.03916120529174805\n",
            "77 \t 0.03562569618225098\n",
            "78 \t 0.03500556945800781\n",
            "79 \t 0.034084320068359375\n",
            "80 \t 0.03532052040100098\n",
            "81 \t 0.02938103675842285\n",
            "82 \t 0.042369842529296875\n",
            "83 \t 0.03209686279296875\n",
            "84 \t 0.033358097076416016\n",
            "85 \t 0.03417253494262695\n",
            "86 \t 0.02976536750793457\n",
            "87 \t 0.03307056427001953\n",
            "88 \t 0.02893543243408203\n",
            "89 \t 0.037252187728881836\n",
            "90 \t 0.03390026092529297\n",
            "91 \t 0.03387856483459473\n",
            "92 \t 0.030665159225463867\n",
            "93 \t 0.035951852798461914\n",
            "94 \t 0.030205249786376953\n",
            "95 \t 0.030510425567626953\n",
            "96 \t 0.035782575607299805\n",
            "97 \t 0.03352093696594238\n",
            "98 \t 0.035358428955078125\n",
            "99 \t 0.029431581497192383\n"
          ]
        }
      ]
    },
    {
      "cell_type": "markdown",
      "source": [
        "## PART 2 EVALUATION"
      ],
      "metadata": {
        "id": "r82VjyI1JJic"
      }
    },
    {
      "cell_type": "code",
      "source": [
        "#  Qrel(query_id='13540', doc_id='1276852', relevance=1, iteration='0'),\n",
        "\n",
        "qrels = ir_measures.read_trec_qrels('/content/qrels')\n",
        "qrels_ = dict()\n",
        "qrels_new = dict()\n",
        "for i in list(qrels):\n",
        "  query_id = i[0]\n",
        "  doc_id = i[1]\n",
        "  relevance = i[2]\n",
        "  qrels_[doc_id] = relevance\n",
        "  qrels_new[query_id] = qrels_"
      ],
      "metadata": {
        "id": "AMJdekE5rgu3"
      },
      "execution_count": 139,
      "outputs": []
    },
    {
      "cell_type": "code",
      "source": [
        "import datetime\n",
        "import time\n",
        "q = pd.read_csv('/content/queries.csv')\n",
        "q = q.to_dict('records')\n",
        "runs = dict()\n",
        "for i in range(len(q)):\n",
        "  st = time.time()\n",
        "  queries = dict()\n",
        "  query = {\n",
        "        'query': {\n",
        "            'bool': {\n",
        "                'must': {\n",
        "                    'match': {\n",
        "                        'text_right': q[i]['text_left']\n",
        "                    }\n",
        "                }\n",
        "            }\n",
        "        }\n",
        "    }\n",
        "  search_results = es.search(index = 'hello', body = query, size = 20)\n",
        "  res = search_results['hits']\n",
        "  for hit in res['hits']:\n",
        "    doc_id = str(hit['_id'])\n",
        "    score = float(hit['_score'])\n",
        "    query_id = i\n",
        "    queries[doc_id] = score\n",
        "\n",
        "  runs[str(q[i]['id_left'])] = queries\n",
        "  \n",
        "scores = ir_measures.calc_aggregate([P(rel=1)@10, P(rel=1)@20, AP], qrels_new, runs)\n",
        "et = time.time()\n",
        "elapsed_time = et - st\n",
        "print(scores)\n",
        "print('TIME', elapsed_time)"
      ],
      "metadata": {
        "colab": {
          "base_uri": "https://localhost:8080/"
        },
        "id": "Rm0Qv6Z94fdZ",
        "outputId": "ad7b0aff-f674-4515-df28-28935585f113"
      },
      "execution_count": 140,
      "outputs": [
        {
          "output_type": "stream",
          "name": "stderr",
          "text": [
            "<ipython-input-140-858307cd7779>:20: DeprecationWarning: The 'body' parameter is deprecated and will be removed in a future version. Instead use individual parameters.\n",
            "  search_results = es.search(index = 'hello', body = query, size = 20)\n"
          ]
        },
        {
          "output_type": "stream",
          "name": "stdout",
          "text": [
            "{P@10: 0.22599999999999987, AP: 0.0004083007253942143, P@20: 0.16450000000000006}\n",
            "TIME 0.17934083938598633\n"
          ]
        }
      ]
    },
    {
      "cell_type": "code",
      "source": [
        "# [ScoredDoc(query_id='158491', doc_id='625257', score=15.660703104969318),\n",
        "\n",
        "bm25 = ir_measures.read_trec_run('/content/BM25.res')\n",
        "bm25_ = dict()\n",
        "creators_runs = dict()\n",
        "for i in list(bm25):\n",
        "  st = time.time()\n",
        "  query_id = i[0]\n",
        "  doc_id = i[1]\n",
        "  score = i[2]\n",
        "  bm25_[doc_id] = score\n",
        "  creators_runs[query_id] = bm25_\n",
        "\n",
        "scores = ir_measures.calc_aggregate([P(rel=1)@10, P(rel=1)@20, AP], qrels_new, creators_runs)\n",
        "et = time.time()\n",
        "elapsed_time = et - st\n",
        "print(scores)\n",
        "print('TIME', elapsed_time)"
      ],
      "metadata": {
        "colab": {
          "base_uri": "https://localhost:8080/"
        },
        "id": "MiUEvMwyLTF-",
        "outputId": "f35328fe-d005-4217-aaba-63ab555a4d88"
      },
      "execution_count": 141,
      "outputs": [
        {
          "output_type": "stream",
          "name": "stdout",
          "text": [
            "{P@10: 0.3000000000000005, AP: 0.010808749000016847, P@20: 0.3000000000000005}\n",
            "TIME 0.726341724395752\n"
          ]
        }
      ]
    }
  ]
}