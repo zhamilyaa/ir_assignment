{
  "nbformat": 4,
  "nbformat_minor": 0,
  "metadata": {
    "colab": {
      "provenance": []
    },
    "kernelspec": {
      "name": "python3",
      "display_name": "Python 3"
    },
    "language_info": {
      "name": "python"
    }
  },
  "cells": [
    {
      "cell_type": "markdown",
      "source": [
        "## HW4 - Zhamilya Saparova\n"
      ],
      "metadata": {
        "id": "0VgVRgNIiH1q"
      }
    },
    {
      "cell_type": "code",
      "source": [
        "pip install elasticsearch"
      ],
      "metadata": {
        "colab": {
          "base_uri": "https://localhost:8080/"
        },
        "id": "2YRTbdQBiW-d",
        "outputId": "821ef261-9160-4090-9ad0-c69be2d5fccf"
      },
      "execution_count": 81,
      "outputs": [
        {
          "output_type": "stream",
          "name": "stdout",
          "text": [
            "Looking in indexes: https://pypi.org/simple, https://us-python.pkg.dev/colab-wheels/public/simple/\n",
            "Requirement already satisfied: elasticsearch in /usr/local/lib/python3.9/dist-packages (8.7.0)\n",
            "Requirement already satisfied: elastic-transport<9,>=8 in /usr/local/lib/python3.9/dist-packages (from elasticsearch) (8.4.0)\n",
            "Requirement already satisfied: certifi in /usr/local/lib/python3.9/dist-packages (from elastic-transport<9,>=8->elasticsearch) (2022.12.7)\n",
            "Requirement already satisfied: urllib3<2,>=1.26.2 in /usr/local/lib/python3.9/dist-packages (from elastic-transport<9,>=8->elasticsearch) (1.26.15)\n"
          ]
        }
      ]
    },
    {
      "cell_type": "code",
      "source": [
        "pip install ir_measures"
      ],
      "metadata": {
        "colab": {
          "base_uri": "https://localhost:8080/"
        },
        "id": "e9T6D_5p7pX2",
        "outputId": "5aaa9be1-9907-4b9f-e49c-9e63f84104a2"
      },
      "execution_count": 82,
      "outputs": [
        {
          "output_type": "stream",
          "name": "stdout",
          "text": [
            "Looking in indexes: https://pypi.org/simple, https://us-python.pkg.dev/colab-wheels/public/simple/\n",
            "Requirement already satisfied: ir_measures in /usr/local/lib/python3.9/dist-packages (0.3.1)\n",
            "Requirement already satisfied: cwl-eval>=1.0.10 in /usr/local/lib/python3.9/dist-packages (from ir_measures) (1.0.12)\n",
            "Requirement already satisfied: pytrec-eval-terrier>=0.5.2 in /usr/local/lib/python3.9/dist-packages (from ir_measures) (0.5.5)\n",
            "Requirement already satisfied: numpy in /usr/local/lib/python3.9/dist-packages (from cwl-eval>=1.0.10->ir_measures) (1.22.4)\n"
          ]
        }
      ]
    },
    {
      "cell_type": "code",
      "source": [
        "%config IPCompleter.greedy=True\n",
        "import re\n",
        "import json\n",
        "from collections import defaultdict\n",
        "from tqdm import tqdm_notebook as tqdm\n",
        "from elasticsearch import Elasticsearch\n",
        "from elasticsearch.helpers import parallel_bulk\n",
        "from pymystem3 import Mystem\n",
        "from sklearn.feature_extraction.text import CountVectorizer\n",
        "import requests\n",
        "from time import time\n",
        "import pandas as pd\n",
        "import numpy as np\n",
        "import ir_measures\n",
        "from ir_measures import *"
      ],
      "metadata": {
        "id": "-xwHRYXGN4d7"
      },
      "execution_count": 83,
      "outputs": []
    },
    {
      "cell_type": "code",
      "execution_count": 84,
      "metadata": {
        "colab": {
          "base_uri": "https://localhost:8080/"
        },
        "id": "nOsfe4JSsyMD",
        "outputId": "e0142f55-fe3b-418f-c6bb-54701ccbf4d5"
      },
      "outputs": [
        {
          "output_type": "stream",
          "name": "stdout",
          "text": [
            "Connection to ES Server successful\n"
          ]
        }
      ],
      "source": [
        "es = Elasticsearch(\"http://localhost:9200\")\n",
        "ELASTIC_PASSWORD = 'OsTuAI29lih200BZT70Pp4Sy'\n",
        "\n",
        "CLOUD_ID = 'ir_hw4:dXMtY2VudHJhbDEuZ2NwLmNsb3VkLmVzLmlvOjQ0MyRiYzA3ZDRkMGRhYjc0OGNmOGQyZGE0ZjEzZDYyMTY5OCQ4ZDEyYTI0ZGU5Yzc0ZmI4YTViMmFlZWU4M2M5NDcxMQ=='\n",
        "es = Elasticsearch(cloud_id = CLOUD_ID, basic_auth=('elastic', ELASTIC_PASSWORD))\n",
        "\n",
        "print(\"Connection to ES Server successful\")"
      ]
    },
    {
      "cell_type": "code",
      "source": [
        "es.indices.delete(index='hello')"
      ],
      "metadata": {
        "colab": {
          "base_uri": "https://localhost:8080/"
        },
        "id": "_lc-ONRM-8va",
        "outputId": "435eb70f-d1ec-4606-f0df-4f9210a713e5"
      },
      "execution_count": 85,
      "outputs": [
        {
          "output_type": "execute_result",
          "data": {
            "text/plain": [
              "ObjectApiResponse({'acknowledged': True})"
            ]
          },
          "metadata": {},
          "execution_count": 85
        }
      ]
    },
    {
      "cell_type": "code",
      "source": [
        "es.indices.create(index='hello')"
      ],
      "metadata": {
        "colab": {
          "base_uri": "https://localhost:8080/"
        },
        "id": "uhV_AsFVooKO",
        "outputId": "4abdf7e8-69f0-417e-ae74-23e9c2f8a252"
      },
      "execution_count": 86,
      "outputs": [
        {
          "output_type": "execute_result",
          "data": {
            "text/plain": [
              "ObjectApiResponse({'acknowledged': True, 'shards_acknowledged': True, 'index': 'hello'})"
            ]
          },
          "metadata": {},
          "execution_count": 86
        }
      ]
    },
    {
      "cell_type": "code",
      "source": [
        "settings_final = {\n",
        "    'mappings': {\n",
        "        'properties': {\n",
        "            'id_right': {\n",
        "                'type': 'integer'\n",
        "            },\n",
        "            'text_right': {\n",
        "                'type': 'text',\n",
        "                'fields': {\n",
        "                    'white':{\n",
        "                        'type': 'text',\n",
        "                        'analyzer': 'white_analyzer'\n",
        "                    }\n",
        "                }\n",
        "            }\n",
        "        }\n",
        "    },\n",
        "    'settings': {\n",
        "        'analysis': {\n",
        "            'analyzer': {\n",
        "                'white_analyzer':{\n",
        "                    'tokenizer': 'white_20',\n",
        "                    'filter': [\n",
        "                        'lowercase',\n",
        "                        'snowball_eng'\n",
        "                    ]\n",
        "                }\n",
        "            },\n",
        "            'tokenizer': {\n",
        "                'white_20': {\n",
        "                    'type': 'whitespace',\n",
        "                }\n",
        "            },\n",
        "            'filter': {\n",
        "                'snowball_eng':{\n",
        "                    'type': 'snowball',\n",
        "                    'language': 'english'\n",
        "                }\n",
        "            }\n",
        "        }\n",
        "    }\n",
        "    \n",
        "}"
      ],
      "metadata": {
        "id": "sorv7Z9BxmW5"
      },
      "execution_count": 87,
      "outputs": []
    },
    {
      "cell_type": "code",
      "source": [
        "settings_final_nostem = {\n",
        "    'mappings': {\n",
        "        'properties': {\n",
        "            'id_right': {\n",
        "                'type': 'integer'\n",
        "            },\n",
        "            'text_right': {\n",
        "                'type': 'text',\n",
        "                'fields': {\n",
        "                    'white':{\n",
        "                        'type': 'text',\n",
        "                        'analyzer': 'white_analyzer'\n",
        "                    }\n",
        "                }\n",
        "            },\n",
        "        }\n",
        "    },\n",
        "    'settings': {\n",
        "        'analysis': {\n",
        "            'analyzer': {\n",
        "                'white_analyzer':{\n",
        "                    'tokenizer': 'white_20',\n",
        "                    'filter': [\n",
        "                        'lowercase',\n",
        "                    ]\n",
        "                }\n",
        "            },\n",
        "            'tokenizer': {\n",
        "                'white_20': {\n",
        "                    'type': 'whitespace',\n",
        "                }\n",
        "            },\n",
        "        }\n",
        "    }\n",
        "}"
      ],
      "metadata": {
        "id": "Lcaw6YAjxnxf"
      },
      "execution_count": 88,
      "outputs": []
    },
    {
      "cell_type": "code",
      "source": [
        "def recreate_index():\n",
        "    es.indices.delete(index='hello')\n",
        "    es.indices.create(index='hello', body = settings_final)"
      ],
      "metadata": {
        "id": "cUQ-gN0ZF3wq"
      },
      "execution_count": 89,
      "outputs": []
    },
    {
      "cell_type": "code",
      "source": [
        "def recreate_index_nostem():\n",
        "    es.indices.delete(index='hello')\n",
        "    es.indices.create(index='hello', body = settings_final_nostem)"
      ],
      "metadata": {
        "id": "tXHlaQ_LF-Yo"
      },
      "execution_count": 90,
      "outputs": []
    },
    {
      "cell_type": "code",
      "source": [
        "def check_analyzer(analyzer, text):\n",
        "    body = analyzer\n",
        "    body['text'] = text\n",
        "    \n",
        "    tokens = es.indices.analyze(index='hello', body=body)['tokens']\n",
        "    tokens = [token_info['token'] for token_info in tokens]\n",
        "    return tokens"
      ],
      "metadata": {
        "id": "gvfXm6uIGCGO"
      },
      "execution_count": 91,
      "outputs": []
    },
    {
      "cell_type": "code",
      "source": [
        "recreate_index()"
      ],
      "metadata": {
        "id": "Ml054HV8g44A",
        "colab": {
          "base_uri": "https://localhost:8080/"
        },
        "outputId": "2a08ab2f-6d52-488f-b424-a807db32b1f3"
      },
      "execution_count": 92,
      "outputs": [
        {
          "output_type": "stream",
          "name": "stderr",
          "text": [
            "<ipython-input-89-5d77653c0115>:3: DeprecationWarning: The 'body' parameter is deprecated and will be removed in a future version. Instead use individual parameters.\n",
            "  es.indices.create(index='hello', body = settings_final)\n"
          ]
        }
      ]
    },
    {
      "cell_type": "code",
      "source": [
        "# recreate_index_nostem()"
      ],
      "metadata": {
        "id": "w1Md6i8RtlWY"
      },
      "execution_count": 93,
      "outputs": []
    },
    {
      "cell_type": "markdown",
      "source": [
        "## INDEX DOCUMENTS"
      ],
      "metadata": {
        "id": "Ice9OkrZzMgk"
      }
    },
    {
      "cell_type": "code",
      "source": [
        "doc_df = pd.read_csv('/content/documents.csv')\n",
        "doc = doc_df.to_dict('records')"
      ],
      "metadata": {
        "id": "O4AGJ47VGhj8"
      },
      "execution_count": 94,
      "outputs": []
    },
    {
      "cell_type": "code",
      "source": [
        "type(doc), len(doc), type(doc_df), doc_df.shape"
      ],
      "metadata": {
        "colab": {
          "base_uri": "https://localhost:8080/"
        },
        "id": "Xsl6kqG0xPJi",
        "outputId": "b692a698-c67b-4db2-f821-2c56b33df7ab"
      },
      "execution_count": 95,
      "outputs": [
        {
          "output_type": "execute_result",
          "data": {
            "text/plain": [
              "(list, 369721, pandas.core.frame.DataFrame, (369721, 2))"
            ]
          },
          "metadata": {},
          "execution_count": 95
        }
      ]
    },
    {
      "cell_type": "code",
      "source": [
        "doc_df.head()"
      ],
      "metadata": {
        "colab": {
          "base_uri": "https://localhost:8080/",
          "height": 204
        },
        "id": "ex-6xWJPi8l5",
        "outputId": "8a8a6b78-7376-41ae-f38f-05be43cd9794"
      },
      "execution_count": 96,
      "outputs": [
        {
          "output_type": "execute_result",
          "data": {
            "text/plain": [
              "   id_right                                         text_right\n",
              "0   1781133  it was used in landing craft during world war ...\n",
              "1   2426736  after rejecting an offer from cambridge univer...\n",
              "2   2224122  mat zan coached kuala lumpur fa in 1999 and wo...\n",
              "3    219642  a barcode is a machine readable optical label ...\n",
              "4   1728654  since the subordination of the monarchy under ..."
            ],
            "text/html": [
              "\n",
              "  <div id=\"df-dcb3c66d-4db4-4db3-8af0-9f5cb969c2ee\">\n",
              "    <div class=\"colab-df-container\">\n",
              "      <div>\n",
              "<style scoped>\n",
              "    .dataframe tbody tr th:only-of-type {\n",
              "        vertical-align: middle;\n",
              "    }\n",
              "\n",
              "    .dataframe tbody tr th {\n",
              "        vertical-align: top;\n",
              "    }\n",
              "\n",
              "    .dataframe thead th {\n",
              "        text-align: right;\n",
              "    }\n",
              "</style>\n",
              "<table border=\"1\" class=\"dataframe\">\n",
              "  <thead>\n",
              "    <tr style=\"text-align: right;\">\n",
              "      <th></th>\n",
              "      <th>id_right</th>\n",
              "      <th>text_right</th>\n",
              "    </tr>\n",
              "  </thead>\n",
              "  <tbody>\n",
              "    <tr>\n",
              "      <th>0</th>\n",
              "      <td>1781133</td>\n",
              "      <td>it was used in landing craft during world war ...</td>\n",
              "    </tr>\n",
              "    <tr>\n",
              "      <th>1</th>\n",
              "      <td>2426736</td>\n",
              "      <td>after rejecting an offer from cambridge univer...</td>\n",
              "    </tr>\n",
              "    <tr>\n",
              "      <th>2</th>\n",
              "      <td>2224122</td>\n",
              "      <td>mat zan coached kuala lumpur fa in 1999 and wo...</td>\n",
              "    </tr>\n",
              "    <tr>\n",
              "      <th>3</th>\n",
              "      <td>219642</td>\n",
              "      <td>a barcode is a machine readable optical label ...</td>\n",
              "    </tr>\n",
              "    <tr>\n",
              "      <th>4</th>\n",
              "      <td>1728654</td>\n",
              "      <td>since the subordination of the monarchy under ...</td>\n",
              "    </tr>\n",
              "  </tbody>\n",
              "</table>\n",
              "</div>\n",
              "      <button class=\"colab-df-convert\" onclick=\"convertToInteractive('df-dcb3c66d-4db4-4db3-8af0-9f5cb969c2ee')\"\n",
              "              title=\"Convert this dataframe to an interactive table.\"\n",
              "              style=\"display:none;\">\n",
              "        \n",
              "  <svg xmlns=\"http://www.w3.org/2000/svg\" height=\"24px\"viewBox=\"0 0 24 24\"\n",
              "       width=\"24px\">\n",
              "    <path d=\"M0 0h24v24H0V0z\" fill=\"none\"/>\n",
              "    <path d=\"M18.56 5.44l.94 2.06.94-2.06 2.06-.94-2.06-.94-.94-2.06-.94 2.06-2.06.94zm-11 1L8.5 8.5l.94-2.06 2.06-.94-2.06-.94L8.5 2.5l-.94 2.06-2.06.94zm10 10l.94 2.06.94-2.06 2.06-.94-2.06-.94-.94-2.06-.94 2.06-2.06.94z\"/><path d=\"M17.41 7.96l-1.37-1.37c-.4-.4-.92-.59-1.43-.59-.52 0-1.04.2-1.43.59L10.3 9.45l-7.72 7.72c-.78.78-.78 2.05 0 2.83L4 21.41c.39.39.9.59 1.41.59.51 0 1.02-.2 1.41-.59l7.78-7.78 2.81-2.81c.8-.78.8-2.07 0-2.86zM5.41 20L4 18.59l7.72-7.72 1.47 1.35L5.41 20z\"/>\n",
              "  </svg>\n",
              "      </button>\n",
              "      \n",
              "  <style>\n",
              "    .colab-df-container {\n",
              "      display:flex;\n",
              "      flex-wrap:wrap;\n",
              "      gap: 12px;\n",
              "    }\n",
              "\n",
              "    .colab-df-convert {\n",
              "      background-color: #E8F0FE;\n",
              "      border: none;\n",
              "      border-radius: 50%;\n",
              "      cursor: pointer;\n",
              "      display: none;\n",
              "      fill: #1967D2;\n",
              "      height: 32px;\n",
              "      padding: 0 0 0 0;\n",
              "      width: 32px;\n",
              "    }\n",
              "\n",
              "    .colab-df-convert:hover {\n",
              "      background-color: #E2EBFA;\n",
              "      box-shadow: 0px 1px 2px rgba(60, 64, 67, 0.3), 0px 1px 3px 1px rgba(60, 64, 67, 0.15);\n",
              "      fill: #174EA6;\n",
              "    }\n",
              "\n",
              "    [theme=dark] .colab-df-convert {\n",
              "      background-color: #3B4455;\n",
              "      fill: #D2E3FC;\n",
              "    }\n",
              "\n",
              "    [theme=dark] .colab-df-convert:hover {\n",
              "      background-color: #434B5C;\n",
              "      box-shadow: 0px 1px 3px 1px rgba(0, 0, 0, 0.15);\n",
              "      filter: drop-shadow(0px 1px 2px rgba(0, 0, 0, 0.3));\n",
              "      fill: #FFFFFF;\n",
              "    }\n",
              "  </style>\n",
              "\n",
              "      <script>\n",
              "        const buttonEl =\n",
              "          document.querySelector('#df-dcb3c66d-4db4-4db3-8af0-9f5cb969c2ee button.colab-df-convert');\n",
              "        buttonEl.style.display =\n",
              "          google.colab.kernel.accessAllowed ? 'block' : 'none';\n",
              "\n",
              "        async function convertToInteractive(key) {\n",
              "          const element = document.querySelector('#df-dcb3c66d-4db4-4db3-8af0-9f5cb969c2ee');\n",
              "          const dataTable =\n",
              "            await google.colab.kernel.invokeFunction('convertToInteractive',\n",
              "                                                     [key], {});\n",
              "          if (!dataTable) return;\n",
              "\n",
              "          const docLinkHtml = 'Like what you see? Visit the ' +\n",
              "            '<a target=\"_blank\" href=https://colab.research.google.com/notebooks/data_table.ipynb>data table notebook</a>'\n",
              "            + ' to learn more about interactive tables.';\n",
              "          element.innerHTML = '';\n",
              "          dataTable['output_type'] = 'display_data';\n",
              "          await google.colab.output.renderOutput(dataTable, element);\n",
              "          const docLink = document.createElement('div');\n",
              "          docLink.innerHTML = docLinkHtml;\n",
              "          element.appendChild(docLink);\n",
              "        }\n",
              "      </script>\n",
              "    </div>\n",
              "  </div>\n",
              "  "
            ]
          },
          "metadata": {},
          "execution_count": 96
        }
      ]
    },
    {
      "cell_type": "code",
      "source": [
        "def create_es_action(index, doc_id, document):\n",
        "    return {\n",
        "        '_index': index,\n",
        "        '_id': doc_id,\n",
        "        '_source': document\n",
        "    }"
      ],
      "metadata": {
        "id": "naeSgrcCSzhz"
      },
      "execution_count": 97,
      "outputs": []
    },
    {
      "cell_type": "code",
      "source": [
        "def es_actions_generator():\n",
        "    for doc_id in doc:\n",
        "        yield create_es_action('hello', doc_id['id_right'], doc_id)"
      ],
      "metadata": {
        "id": "YaeoQWOTS0Z0"
      },
      "execution_count": 98,
      "outputs": []
    },
    {
      "cell_type": "code",
      "source": [
        "# ADDING DOCS TO THE INDEX\n",
        "%%time \n",
        "for ok, result in parallel_bulk(es, es_actions_generator(), queue_size=4, thread_count=4, chunk_size=1000):\n",
        "    if not ok:\n",
        "        print(result)"
      ],
      "metadata": {
        "id": "T_3pMkHCyg-d",
        "colab": {
          "base_uri": "https://localhost:8080/",
          "height": 548
        },
        "outputId": "4d83e4bc-453b-45c7-f05e-e3f73ce60339"
      },
      "execution_count": 99,
      "outputs": [
        {
          "output_type": "stream",
          "name": "stderr",
          "text": [
            "WARNING:elastic_transport.node_pool:Node <Urllib3HttpNode(https://bc07d4d0dab748cf8d2da4f13d621698.us-central1.gcp.cloud.es.io:443)> has failed for 1 times in a row, putting on 1 second timeout\n",
            "WARNING:elastic_transport.node_pool:Node <Urllib3HttpNode(https://bc07d4d0dab748cf8d2da4f13d621698.us-central1.gcp.cloud.es.io:443)> has failed for 2 times in a row, putting on 2 second timeout\n",
            "WARNING:elastic_transport.node_pool:Node <Urllib3HttpNode(https://bc07d4d0dab748cf8d2da4f13d621698.us-central1.gcp.cloud.es.io:443)> has failed for 3 times in a row, putting on 4 second timeout\n",
            "WARNING:elastic_transport.node_pool:Node <Urllib3HttpNode(https://bc07d4d0dab748cf8d2da4f13d621698.us-central1.gcp.cloud.es.io:443)> has failed for 4 times in a row, putting on 8 second timeout\n",
            "WARNING:elastic_transport.node_pool:Node <Urllib3HttpNode(https://bc07d4d0dab748cf8d2da4f13d621698.us-central1.gcp.cloud.es.io:443)> has been marked alive after a successful request\n"
          ]
        },
        {
          "output_type": "error",
          "ename": "ConnectionTimeout",
          "evalue": "ignored",
          "traceback": [
            "\u001b[0;31m---------------------------------------------------------------------------\u001b[0m",
            "\u001b[0;31mConnectionTimeout\u001b[0m                         Traceback (most recent call last)",
            "\u001b[0;32m<timed exec>\u001b[0m in \u001b[0;36m<module>\u001b[0;34m\u001b[0m\n",
            "\u001b[0;32m/usr/local/lib/python3.9/dist-packages/elasticsearch/helpers/actions.py\u001b[0m in \u001b[0;36mparallel_bulk\u001b[0;34m(client, actions, thread_count, chunk_size, max_chunk_bytes, queue_size, expand_action_callback, ignore_status, *args, **kwargs)\u001b[0m\n\u001b[1;32m    593\u001b[0m \u001b[0;34m\u001b[0m\u001b[0m\n\u001b[1;32m    594\u001b[0m     \u001b[0;32mtry\u001b[0m\u001b[0;34m:\u001b[0m\u001b[0;34m\u001b[0m\u001b[0;34m\u001b[0m\u001b[0m\n\u001b[0;32m--> 595\u001b[0;31m         for result in pool.imap(\n\u001b[0m\u001b[1;32m    596\u001b[0m             lambda bulk_chunk: list(\n\u001b[1;32m    597\u001b[0m                 _process_bulk_chunk(\n",
            "\u001b[0;32m/usr/lib/python3.9/multiprocessing/pool.py\u001b[0m in \u001b[0;36mnext\u001b[0;34m(self, timeout)\u001b[0m\n\u001b[1;32m    868\u001b[0m         \u001b[0;32mif\u001b[0m \u001b[0msuccess\u001b[0m\u001b[0;34m:\u001b[0m\u001b[0;34m\u001b[0m\u001b[0;34m\u001b[0m\u001b[0m\n\u001b[1;32m    869\u001b[0m             \u001b[0;32mreturn\u001b[0m \u001b[0mvalue\u001b[0m\u001b[0;34m\u001b[0m\u001b[0;34m\u001b[0m\u001b[0m\n\u001b[0;32m--> 870\u001b[0;31m         \u001b[0;32mraise\u001b[0m \u001b[0mvalue\u001b[0m\u001b[0;34m\u001b[0m\u001b[0;34m\u001b[0m\u001b[0m\n\u001b[0m\u001b[1;32m    871\u001b[0m \u001b[0;34m\u001b[0m\u001b[0m\n\u001b[1;32m    872\u001b[0m     \u001b[0m__next__\u001b[0m \u001b[0;34m=\u001b[0m \u001b[0mnext\u001b[0m                    \u001b[0;31m# XXX\u001b[0m\u001b[0;34m\u001b[0m\u001b[0;34m\u001b[0m\u001b[0m\n",
            "\u001b[0;32m/usr/lib/python3.9/multiprocessing/pool.py\u001b[0m in \u001b[0;36mworker\u001b[0;34m(inqueue, outqueue, initializer, initargs, maxtasks, wrap_exception)\u001b[0m\n\u001b[1;32m    123\u001b[0m         \u001b[0mjob\u001b[0m\u001b[0;34m,\u001b[0m \u001b[0mi\u001b[0m\u001b[0;34m,\u001b[0m \u001b[0mfunc\u001b[0m\u001b[0;34m,\u001b[0m \u001b[0margs\u001b[0m\u001b[0;34m,\u001b[0m \u001b[0mkwds\u001b[0m \u001b[0;34m=\u001b[0m \u001b[0mtask\u001b[0m\u001b[0;34m\u001b[0m\u001b[0;34m\u001b[0m\u001b[0m\n\u001b[1;32m    124\u001b[0m         \u001b[0;32mtry\u001b[0m\u001b[0;34m:\u001b[0m\u001b[0;34m\u001b[0m\u001b[0;34m\u001b[0m\u001b[0m\n\u001b[0;32m--> 125\u001b[0;31m             \u001b[0mresult\u001b[0m \u001b[0;34m=\u001b[0m \u001b[0;34m(\u001b[0m\u001b[0;32mTrue\u001b[0m\u001b[0;34m,\u001b[0m \u001b[0mfunc\u001b[0m\u001b[0;34m(\u001b[0m\u001b[0;34m*\u001b[0m\u001b[0margs\u001b[0m\u001b[0;34m,\u001b[0m \u001b[0;34m**\u001b[0m\u001b[0mkwds\u001b[0m\u001b[0;34m)\u001b[0m\u001b[0;34m)\u001b[0m\u001b[0;34m\u001b[0m\u001b[0;34m\u001b[0m\u001b[0m\n\u001b[0m\u001b[1;32m    126\u001b[0m         \u001b[0;32mexcept\u001b[0m \u001b[0mException\u001b[0m \u001b[0;32mas\u001b[0m \u001b[0me\u001b[0m\u001b[0;34m:\u001b[0m\u001b[0;34m\u001b[0m\u001b[0;34m\u001b[0m\u001b[0m\n\u001b[1;32m    127\u001b[0m             \u001b[0;32mif\u001b[0m \u001b[0mwrap_exception\u001b[0m \u001b[0;32mand\u001b[0m \u001b[0mfunc\u001b[0m \u001b[0;32mis\u001b[0m \u001b[0;32mnot\u001b[0m \u001b[0m_helper_reraises_exception\u001b[0m\u001b[0;34m:\u001b[0m\u001b[0;34m\u001b[0m\u001b[0;34m\u001b[0m\u001b[0m\n",
            "\u001b[0;32m/usr/local/lib/python3.9/dist-packages/elasticsearch/helpers/actions.py\u001b[0m in \u001b[0;36m<lambda>\u001b[0;34m(bulk_chunk)\u001b[0m\n\u001b[1;32m    594\u001b[0m     \u001b[0;32mtry\u001b[0m\u001b[0;34m:\u001b[0m\u001b[0;34m\u001b[0m\u001b[0;34m\u001b[0m\u001b[0m\n\u001b[1;32m    595\u001b[0m         for result in pool.imap(\n\u001b[0;32m--> 596\u001b[0;31m             lambda bulk_chunk: list(\n\u001b[0m\u001b[1;32m    597\u001b[0m                 _process_bulk_chunk(\n\u001b[1;32m    598\u001b[0m                     \u001b[0mclient\u001b[0m\u001b[0;34m,\u001b[0m\u001b[0;34m\u001b[0m\u001b[0;34m\u001b[0m\u001b[0m\n",
            "\u001b[0;32m/usr/local/lib/python3.9/dist-packages/elasticsearch/helpers/actions.py\u001b[0m in \u001b[0;36m_process_bulk_chunk\u001b[0;34m(client, bulk_actions, bulk_data, raise_on_exception, raise_on_error, ignore_status, *args, **kwargs)\u001b[0m\n\u001b[1;32m    337\u001b[0m     \u001b[0;32mtry\u001b[0m\u001b[0;34m:\u001b[0m\u001b[0;34m\u001b[0m\u001b[0;34m\u001b[0m\u001b[0m\n\u001b[1;32m    338\u001b[0m         \u001b[0;31m# send the actual request\u001b[0m\u001b[0;34m\u001b[0m\u001b[0;34m\u001b[0m\u001b[0m\n\u001b[0;32m--> 339\u001b[0;31m         \u001b[0mresp\u001b[0m \u001b[0;34m=\u001b[0m \u001b[0mclient\u001b[0m\u001b[0;34m.\u001b[0m\u001b[0mbulk\u001b[0m\u001b[0;34m(\u001b[0m\u001b[0;34m*\u001b[0m\u001b[0margs\u001b[0m\u001b[0;34m,\u001b[0m \u001b[0moperations\u001b[0m\u001b[0;34m=\u001b[0m\u001b[0mbulk_actions\u001b[0m\u001b[0;34m,\u001b[0m \u001b[0;34m**\u001b[0m\u001b[0mkwargs\u001b[0m\u001b[0;34m)\u001b[0m  \u001b[0;31m# type: ignore[arg-type]\u001b[0m\u001b[0;34m\u001b[0m\u001b[0;34m\u001b[0m\u001b[0m\n\u001b[0m\u001b[1;32m    340\u001b[0m     \u001b[0;32mexcept\u001b[0m \u001b[0mApiError\u001b[0m \u001b[0;32mas\u001b[0m \u001b[0me\u001b[0m\u001b[0;34m:\u001b[0m\u001b[0;34m\u001b[0m\u001b[0;34m\u001b[0m\u001b[0m\n\u001b[1;32m    341\u001b[0m         gen = _process_bulk_chunk_error(\n",
            "\u001b[0;32m/usr/local/lib/python3.9/dist-packages/elasticsearch/_sync/client/utils.py\u001b[0m in \u001b[0;36mwrapped\u001b[0;34m(*args, **kwargs)\u001b[0m\n\u001b[1;32m    412\u001b[0m                         \u001b[0;32mpass\u001b[0m\u001b[0;34m\u001b[0m\u001b[0;34m\u001b[0m\u001b[0m\n\u001b[1;32m    413\u001b[0m \u001b[0;34m\u001b[0m\u001b[0m\n\u001b[0;32m--> 414\u001b[0;31m             \u001b[0;32mreturn\u001b[0m \u001b[0mapi\u001b[0m\u001b[0;34m(\u001b[0m\u001b[0;34m*\u001b[0m\u001b[0margs\u001b[0m\u001b[0;34m,\u001b[0m \u001b[0;34m**\u001b[0m\u001b[0mkwargs\u001b[0m\u001b[0;34m)\u001b[0m\u001b[0;34m\u001b[0m\u001b[0;34m\u001b[0m\u001b[0m\n\u001b[0m\u001b[1;32m    415\u001b[0m \u001b[0;34m\u001b[0m\u001b[0m\n\u001b[1;32m    416\u001b[0m         \u001b[0;32mreturn\u001b[0m \u001b[0mwrapped\u001b[0m  \u001b[0;31m# type: ignore[return-value]\u001b[0m\u001b[0;34m\u001b[0m\u001b[0;34m\u001b[0m\u001b[0m\n",
            "\u001b[0;32m/usr/local/lib/python3.9/dist-packages/elasticsearch/_sync/client/__init__.py\u001b[0m in \u001b[0;36mbulk\u001b[0;34m(self, operations, index, error_trace, filter_path, human, pipeline, pretty, refresh, require_alias, routing, source, source_excludes, source_includes, timeout, wait_for_active_shards)\u001b[0m\n\u001b[1;32m    700\u001b[0m             \u001b[0;34m\"content-type\"\u001b[0m\u001b[0;34m:\u001b[0m \u001b[0;34m\"application/x-ndjson\"\u001b[0m\u001b[0;34m,\u001b[0m\u001b[0;34m\u001b[0m\u001b[0;34m\u001b[0m\u001b[0m\n\u001b[1;32m    701\u001b[0m         }\n\u001b[0;32m--> 702\u001b[0;31m         return self.perform_request(  # type: ignore[return-value]\n\u001b[0m\u001b[1;32m    703\u001b[0m             \u001b[0;34m\"PUT\"\u001b[0m\u001b[0;34m,\u001b[0m \u001b[0m__path\u001b[0m\u001b[0;34m,\u001b[0m \u001b[0mparams\u001b[0m\u001b[0;34m=\u001b[0m\u001b[0m__query\u001b[0m\u001b[0;34m,\u001b[0m \u001b[0mheaders\u001b[0m\u001b[0;34m=\u001b[0m\u001b[0m__headers\u001b[0m\u001b[0;34m,\u001b[0m \u001b[0mbody\u001b[0m\u001b[0;34m=\u001b[0m\u001b[0m__body\u001b[0m\u001b[0;34m\u001b[0m\u001b[0;34m\u001b[0m\u001b[0m\n\u001b[1;32m    704\u001b[0m         )\n",
            "\u001b[0;32m/usr/local/lib/python3.9/dist-packages/elasticsearch/_sync/client/_base.py\u001b[0m in \u001b[0;36mperform_request\u001b[0;34m(self, method, path, params, headers, body)\u001b[0m\n\u001b[1;32m    283\u001b[0m             \u001b[0mtarget\u001b[0m \u001b[0;34m=\u001b[0m \u001b[0mpath\u001b[0m\u001b[0;34m\u001b[0m\u001b[0;34m\u001b[0m\u001b[0m\n\u001b[1;32m    284\u001b[0m \u001b[0;34m\u001b[0m\u001b[0m\n\u001b[0;32m--> 285\u001b[0;31m         meta, resp_body = self.transport.perform_request(\n\u001b[0m\u001b[1;32m    286\u001b[0m             \u001b[0mmethod\u001b[0m\u001b[0;34m,\u001b[0m\u001b[0;34m\u001b[0m\u001b[0;34m\u001b[0m\u001b[0m\n\u001b[1;32m    287\u001b[0m             \u001b[0mtarget\u001b[0m\u001b[0;34m,\u001b[0m\u001b[0;34m\u001b[0m\u001b[0;34m\u001b[0m\u001b[0m\n",
            "\u001b[0;32m/usr/local/lib/python3.9/dist-packages/elastic_transport/_transport.py\u001b[0m in \u001b[0;36mperform_request\u001b[0;34m(self, method, target, body, headers, max_retries, retry_on_status, retry_on_timeout, request_timeout, client_meta)\u001b[0m\n\u001b[1;32m    327\u001b[0m             \u001b[0mstart_time\u001b[0m \u001b[0;34m=\u001b[0m \u001b[0mtime\u001b[0m\u001b[0;34m.\u001b[0m\u001b[0mtime\u001b[0m\u001b[0;34m(\u001b[0m\u001b[0;34m)\u001b[0m\u001b[0;34m\u001b[0m\u001b[0;34m\u001b[0m\u001b[0m\n\u001b[1;32m    328\u001b[0m             \u001b[0;32mtry\u001b[0m\u001b[0;34m:\u001b[0m\u001b[0;34m\u001b[0m\u001b[0;34m\u001b[0m\u001b[0m\n\u001b[0;32m--> 329\u001b[0;31m                 meta, raw_data = node.perform_request(\n\u001b[0m\u001b[1;32m    330\u001b[0m                     \u001b[0mmethod\u001b[0m\u001b[0;34m,\u001b[0m\u001b[0;34m\u001b[0m\u001b[0;34m\u001b[0m\u001b[0m\n\u001b[1;32m    331\u001b[0m                     \u001b[0mtarget\u001b[0m\u001b[0;34m,\u001b[0m\u001b[0;34m\u001b[0m\u001b[0;34m\u001b[0m\u001b[0m\n",
            "\u001b[0;32m/usr/local/lib/python3.9/dist-packages/elastic_transport/_node/_http_urllib3.py\u001b[0m in \u001b[0;36mperform_request\u001b[0;34m(self, method, target, body, headers, request_timeout)\u001b[0m\n\u001b[1;32m    197\u001b[0m                 \u001b[0mexception\u001b[0m\u001b[0;34m=\u001b[0m\u001b[0merr\u001b[0m\u001b[0;34m,\u001b[0m\u001b[0;34m\u001b[0m\u001b[0;34m\u001b[0m\u001b[0m\n\u001b[1;32m    198\u001b[0m             )\n\u001b[0;32m--> 199\u001b[0;31m             \u001b[0;32mraise\u001b[0m \u001b[0merr\u001b[0m \u001b[0;32mfrom\u001b[0m \u001b[0;32mNone\u001b[0m\u001b[0;34m\u001b[0m\u001b[0;34m\u001b[0m\u001b[0m\n\u001b[0m\u001b[1;32m    200\u001b[0m \u001b[0;34m\u001b[0m\u001b[0m\n\u001b[1;32m    201\u001b[0m         meta = ApiResponseMeta(\n",
            "\u001b[0;31mConnectionTimeout\u001b[0m: Connection timed out"
          ]
        }
      ]
    },
    {
      "cell_type": "markdown",
      "source": [
        "## SEARCH\n"
      ],
      "metadata": {
        "id": "e_zm1HmbJPwR"
      }
    },
    {
      "cell_type": "code",
      "source": [
        "def search(query, *args):\n",
        "    pretty_print_result(es.search(index='hello', body=query, size=20), args)\n",
        "                        \n",
        "def pretty_print_result(search_result, fields=[]):\n",
        "    res = search_result['hits']\n",
        "    print(f'Total documents: {res[\"total\"][\"value\"]}')\n",
        "    for hit in res['hits']:\n",
        "        print(f'Doc {hit[\"_id\"]}, score is {hit[\"_score\"]}')\n",
        "        for field in fields:\n",
        "            print(f'{field}: {hit[\"_source\"][field]}')\n",
        "                  \n",
        "def get_doc_by_id(doc_id):\n",
        "    return es.get(index='hello', id=doc_id)['_source']"
      ],
      "metadata": {
        "id": "vr6WztEWzXN2"
      },
      "execution_count": 100,
      "outputs": []
    },
    {
      "cell_type": "code",
      "source": [
        "%%time \n",
        "\n",
        "query = {\n",
        "    'query': {\n",
        "        'match_all': {}\n",
        "    }\n",
        "}\n",
        "search(query)"
      ],
      "metadata": {
        "colab": {
          "base_uri": "https://localhost:8080/"
        },
        "id": "YHPbojMyyhA2",
        "outputId": "1c102765-09c6-4d48-fd95-7249ee0c0e0f"
      },
      "execution_count": 101,
      "outputs": [
        {
          "output_type": "stream",
          "name": "stderr",
          "text": [
            "<ipython-input-100-fae58037f7d9>:2: DeprecationWarning: The 'body' parameter is deprecated and will be removed in a future version. Instead use individual parameters.\n",
            "  pretty_print_result(es.search(index='hello', body=query, size=20), args)\n"
          ]
        },
        {
          "output_type": "stream",
          "name": "stdout",
          "text": [
            "Total documents: 10000\n",
            "Doc 1781133, score is 1.0\n",
            "Doc 2426736, score is 1.0\n",
            "Doc 2224122, score is 1.0\n",
            "Doc 219642, score is 1.0\n",
            "Doc 1728654, score is 1.0\n",
            "Doc 1889917, score is 1.0\n",
            "Doc 1518473, score is 1.0\n",
            "Doc 1459418, score is 1.0\n",
            "Doc 1102956, score is 1.0\n",
            "Doc 931408, score is 1.0\n",
            "Doc 1043905, score is 1.0\n",
            "Doc 488327, score is 1.0\n",
            "Doc 1069841, score is 1.0\n",
            "Doc 1601336, score is 1.0\n",
            "Doc 1415191, score is 1.0\n",
            "Doc 1531137, score is 1.0\n",
            "Doc 912052, score is 1.0\n",
            "Doc 935016, score is 1.0\n",
            "Doc 1671729, score is 1.0\n",
            "Doc 1946935, score is 1.0\n",
            "CPU times: user 72.8 ms, sys: 3.17 ms, total: 76 ms\n",
            "Wall time: 2.76 s\n"
          ]
        }
      ]
    },
    {
      "cell_type": "code",
      "source": [
        "%%time\n",
        "\n",
        "query = {\n",
        "    'query': {\n",
        "        'bool': {\n",
        "            'must': {\n",
        "                'match': {\n",
        "                    'text_right': 'private boats'\n",
        "                }\n",
        "            }\n",
        "        }\n",
        "    }\n",
        "}\n",
        "\n",
        "search(query)"
      ],
      "metadata": {
        "colab": {
          "base_uri": "https://localhost:8080/"
        },
        "id": "u9H1UGKZBh4N",
        "outputId": "9f587945-b251-4c07-e2f9-c2130f062ae6"
      },
      "execution_count": 102,
      "outputs": [
        {
          "output_type": "stream",
          "name": "stdout",
          "text": [
            "Total documents: 10000\n",
            "Doc 2355214, score is 13.976819\n",
            "Doc 644717, score is 13.686264\n",
            "Doc 1596321, score is 13.1172695\n",
            "Doc 2412578, score is 12.66897\n",
            "Doc 352785, score is 12.558475\n",
            "Doc 1272069, score is 12.242398\n",
            "Doc 1226233, score is 12.007725\n",
            "Doc 1856656, score is 12.007725\n",
            "Doc 880419, score is 12.007725\n",
            "Doc 919902, score is 12.007725\n",
            "Doc 1879751, score is 12.007725\n",
            "Doc 1110284, score is 11.860317\n",
            "Doc 2029858, score is 10.934549\n",
            "Doc 1964437, score is 10.934549\n",
            "Doc 1329021, score is 10.934549\n",
            "Doc 1714910, score is 10.934549\n",
            "Doc 551366, score is 10.934549\n",
            "Doc 885487, score is 10.934549\n",
            "Doc 2075473, score is 10.934549\n",
            "Doc 1185710, score is 10.884844\n",
            "CPU times: user 63 ms, sys: 3.12 ms, total: 66.2 ms\n",
            "Wall time: 171 ms\n"
          ]
        },
        {
          "output_type": "stream",
          "name": "stderr",
          "text": [
            "<ipython-input-100-fae58037f7d9>:2: DeprecationWarning: The 'body' parameter is deprecated and will be removed in a future version. Instead use individual parameters.\n",
            "  pretty_print_result(es.search(index='hello', body=query, size=20), args)\n"
          ]
        }
      ]
    },
    {
      "cell_type": "code",
      "source": [
        "pip install -U sentence-transformers "
      ],
      "metadata": {
        "colab": {
          "base_uri": "https://localhost:8080/"
        },
        "id": "bzNAgmqwgcnz",
        "outputId": "90761153-f463-4716-ac6b-b03fcd0f5c0f"
      },
      "execution_count": 103,
      "outputs": [
        {
          "output_type": "stream",
          "name": "stdout",
          "text": [
            "Looking in indexes: https://pypi.org/simple, https://us-python.pkg.dev/colab-wheels/public/simple/\n",
            "Requirement already satisfied: sentence-transformers in /usr/local/lib/python3.9/dist-packages (2.2.2)\n",
            "Requirement already satisfied: torchvision in /usr/local/lib/python3.9/dist-packages (from sentence-transformers) (0.15.1+cu118)\n",
            "Requirement already satisfied: sentencepiece in /usr/local/lib/python3.9/dist-packages (from sentence-transformers) (0.1.97)\n",
            "Requirement already satisfied: tqdm in /usr/local/lib/python3.9/dist-packages (from sentence-transformers) (4.65.0)\n",
            "Requirement already satisfied: transformers<5.0.0,>=4.6.0 in /usr/local/lib/python3.9/dist-packages (from sentence-transformers) (4.27.4)\n",
            "Requirement already satisfied: huggingface-hub>=0.4.0 in /usr/local/lib/python3.9/dist-packages (from sentence-transformers) (0.13.4)\n",
            "Requirement already satisfied: torch>=1.6.0 in /usr/local/lib/python3.9/dist-packages (from sentence-transformers) (2.0.0+cu118)\n",
            "Requirement already satisfied: numpy in /usr/local/lib/python3.9/dist-packages (from sentence-transformers) (1.22.4)\n",
            "Requirement already satisfied: scipy in /usr/local/lib/python3.9/dist-packages (from sentence-transformers) (1.10.1)\n",
            "Requirement already satisfied: nltk in /usr/local/lib/python3.9/dist-packages (from sentence-transformers) (3.8.1)\n",
            "Requirement already satisfied: scikit-learn in /usr/local/lib/python3.9/dist-packages (from sentence-transformers) (1.2.2)\n",
            "Requirement already satisfied: packaging>=20.9 in /usr/local/lib/python3.9/dist-packages (from huggingface-hub>=0.4.0->sentence-transformers) (23.0)\n",
            "Requirement already satisfied: pyyaml>=5.1 in /usr/local/lib/python3.9/dist-packages (from huggingface-hub>=0.4.0->sentence-transformers) (6.0)\n",
            "Requirement already satisfied: requests in /usr/local/lib/python3.9/dist-packages (from huggingface-hub>=0.4.0->sentence-transformers) (2.27.1)\n",
            "Requirement already satisfied: filelock in /usr/local/lib/python3.9/dist-packages (from huggingface-hub>=0.4.0->sentence-transformers) (3.10.7)\n",
            "Requirement already satisfied: typing-extensions>=3.7.4.3 in /usr/local/lib/python3.9/dist-packages (from huggingface-hub>=0.4.0->sentence-transformers) (4.5.0)\n",
            "Requirement already satisfied: sympy in /usr/local/lib/python3.9/dist-packages (from torch>=1.6.0->sentence-transformers) (1.11.1)\n",
            "Requirement already satisfied: triton==2.0.0 in /usr/local/lib/python3.9/dist-packages (from torch>=1.6.0->sentence-transformers) (2.0.0)\n",
            "Requirement already satisfied: networkx in /usr/local/lib/python3.9/dist-packages (from torch>=1.6.0->sentence-transformers) (3.0)\n",
            "Requirement already satisfied: jinja2 in /usr/local/lib/python3.9/dist-packages (from torch>=1.6.0->sentence-transformers) (3.1.2)\n",
            "Requirement already satisfied: lit in /usr/local/lib/python3.9/dist-packages (from triton==2.0.0->torch>=1.6.0->sentence-transformers) (16.0.0)\n",
            "Requirement already satisfied: cmake in /usr/local/lib/python3.9/dist-packages (from triton==2.0.0->torch>=1.6.0->sentence-transformers) (3.25.2)\n",
            "Requirement already satisfied: regex!=2019.12.17 in /usr/local/lib/python3.9/dist-packages (from transformers<5.0.0,>=4.6.0->sentence-transformers) (2022.10.31)\n",
            "Requirement already satisfied: tokenizers!=0.11.3,<0.14,>=0.11.1 in /usr/local/lib/python3.9/dist-packages (from transformers<5.0.0,>=4.6.0->sentence-transformers) (0.13.3)\n",
            "Requirement already satisfied: click in /usr/local/lib/python3.9/dist-packages (from nltk->sentence-transformers) (8.1.3)\n",
            "Requirement already satisfied: joblib in /usr/local/lib/python3.9/dist-packages (from nltk->sentence-transformers) (1.1.1)\n",
            "Requirement already satisfied: threadpoolctl>=2.0.0 in /usr/local/lib/python3.9/dist-packages (from scikit-learn->sentence-transformers) (3.1.0)\n",
            "Requirement already satisfied: pillow!=8.3.*,>=5.3.0 in /usr/local/lib/python3.9/dist-packages (from torchvision->sentence-transformers) (8.4.0)\n",
            "Requirement already satisfied: MarkupSafe>=2.0 in /usr/local/lib/python3.9/dist-packages (from jinja2->torch>=1.6.0->sentence-transformers) (2.1.2)\n",
            "Requirement already satisfied: idna<4,>=2.5 in /usr/local/lib/python3.9/dist-packages (from requests->huggingface-hub>=0.4.0->sentence-transformers) (3.4)\n",
            "Requirement already satisfied: certifi>=2017.4.17 in /usr/local/lib/python3.9/dist-packages (from requests->huggingface-hub>=0.4.0->sentence-transformers) (2022.12.7)\n",
            "Requirement already satisfied: urllib3<1.27,>=1.21.1 in /usr/local/lib/python3.9/dist-packages (from requests->huggingface-hub>=0.4.0->sentence-transformers) (1.26.15)\n",
            "Requirement already satisfied: charset-normalizer~=2.0.0 in /usr/local/lib/python3.9/dist-packages (from requests->huggingface-hub>=0.4.0->sentence-transformers) (2.0.12)\n",
            "Requirement already satisfied: mpmath>=0.19 in /usr/local/lib/python3.9/dist-packages (from sympy->torch>=1.6.0->sentence-transformers) (1.3.0)\n"
          ]
        }
      ]
    },
    {
      "cell_type": "code",
      "source": [
        "import datetime\n",
        "import time\n",
        "import torch\n",
        "from sentence_transformers import SentenceTransformer, util\n",
        "import torch\n",
        "\n",
        "embedder = SentenceTransformer('all-MiniLM-L6-v2')\n",
        "\n",
        "q = pd.read_csv('/content/queries.csv')\n",
        "q = q.to_dict('records')\n",
        "runs = dict()\n",
        "\n",
        "for i in range(len(q)):\n",
        "  st = time.time()\n",
        "  queries = dict()\n",
        "  query = {\n",
        "        'query': {\n",
        "            'bool': {\n",
        "                'must': {\n",
        "                    'match': {\n",
        "                        'text_right': q[i]['text_left']\n",
        "                    }\n",
        "                }\n",
        "            }\n",
        "        }\n",
        "    }\n",
        "  search_results = es.search(index = 'hello', body = query, size = 20)\n",
        " \n",
        "  corpus = []\n",
        "  idx = dict()\n",
        "\n",
        "  if len(search_results['hits']['hits']) != 0:\n",
        "\n",
        "\n",
        "    for j in range(len(search_results['hits']['hits'])):\n",
        "      corp = search_results['hits']['hits'][j]['_source']['text_right']\n",
        "      idx[j] = search_results['hits']['hits'][j]['_source']['id_right']\n",
        "      corpus.append(corp)\n",
        "    \n",
        "    top_k = min(20, len(corpus))\n",
        "    corpus_embeddings = embedder.encode(corpus, convert_to_tensor=True)\n",
        "    query_embedding = embedder.encode(q[i]['text_left'], convert_to_tensor = True)\n",
        "    cos_scores = util.cos_sim(query_embedding, corpus_embeddings)[0]\n",
        "    top_results = torch.topk(cos_scores, k=top_k)\n",
        "\n",
        "    for scoree, idxx in zip(top_results[0], top_results[1]):\n",
        "      doc_id = str(idx[int(idxx)])\n",
        "      score = scoree\n",
        "      query_id = i\n",
        "      queries[doc_id] = score\n",
        "    \n",
        "    runs[str(q[i]['id_left'])] = queries\n",
        "\n",
        "    et = time.time()\n",
        "    elapsed_time = et - st\n",
        "    print(query_id, '\\t', elapsed_time)\n"
      ],
      "metadata": {
        "colab": {
          "base_uri": "https://localhost:8080/"
        },
        "id": "-u-uDSJbIIlP",
        "outputId": "2fa123bc-354e-4fee-8988-6e9ccc267f74"
      },
      "execution_count": 104,
      "outputs": [
        {
          "output_type": "stream",
          "name": "stderr",
          "text": [
            "<ipython-input-104-a506ce4805d7>:27: DeprecationWarning: The 'body' parameter is deprecated and will be removed in a future version. Instead use individual parameters.\n",
            "  search_results = es.search(index = 'hello', body = query, size = 20)\n"
          ]
        },
        {
          "output_type": "stream",
          "name": "stdout",
          "text": [
            "0 \t 4.581221580505371\n",
            "1 \t 3.860698938369751\n",
            "2 \t 6.051204204559326\n",
            "3 \t 3.524930715560913\n",
            "4 \t 2.7110519409179688\n",
            "5 \t 3.0900495052337646\n",
            "6 \t 3.4311184883117676\n",
            "7 \t 2.9274957180023193\n",
            "8 \t 2.909024953842163\n",
            "9 \t 2.9369266033172607\n",
            "10 \t 3.763282060623169\n",
            "11 \t 2.7413384914398193\n",
            "12 \t 2.9902751445770264\n",
            "13 \t 2.9374516010284424\n",
            "15 \t 3.4219930171966553\n",
            "16 \t 2.931328296661377\n",
            "17 \t 2.878676652908325\n",
            "18 \t 2.75605845451355\n",
            "19 \t 3.0240275859832764\n",
            "20 \t 3.0322694778442383\n",
            "21 \t 2.6670000553131104\n",
            "22 \t 2.6793267726898193\n",
            "23 \t 2.986239433288574\n",
            "24 \t 3.825251579284668\n",
            "25 \t 2.5643725395202637\n",
            "26 \t 2.449552297592163\n",
            "27 \t 2.9595181941986084\n",
            "28 \t 3.842911958694458\n",
            "29 \t 2.927267074584961\n",
            "30 \t 2.7319977283477783\n",
            "31 \t 2.9829471111297607\n",
            "32 \t 3.7581000328063965\n",
            "33 \t 3.0230772495269775\n",
            "34 \t 2.639892816543579\n",
            "35 \t 2.855710029602051\n",
            "36 \t 3.144117593765259\n",
            "37 \t 2.665174961090088\n",
            "38 \t 2.9656708240509033\n",
            "39 \t 2.9406049251556396\n",
            "40 \t 3.005831718444824\n",
            "41 \t 3.0152902603149414\n",
            "42 \t 2.6778383255004883\n",
            "43 \t 2.7670981884002686\n",
            "44 \t 2.9071807861328125\n",
            "45 \t 3.738299608230591\n",
            "46 \t 2.986342191696167\n",
            "47 \t 2.689992904663086\n",
            "48 \t 2.7074263095855713\n",
            "49 \t 3.528386354446411\n",
            "50 \t 3.0684142112731934\n",
            "51 \t 2.459167003631592\n",
            "52 \t 2.6406409740448\n",
            "53 \t 2.9870901107788086\n",
            "54 \t 3.747908592224121\n",
            "55 \t 2.863356113433838\n",
            "56 \t 2.9802370071411133\n",
            "57 \t 2.8898985385894775\n",
            "58 \t 3.54325532913208\n",
            "59 \t 2.434385299682617\n",
            "60 \t 2.903670072555542\n",
            "61 \t 2.6855180263519287\n",
            "62 \t 3.3755764961242676\n",
            "63 \t 3.0323331356048584\n",
            "64 \t 2.7118349075317383\n",
            "65 \t 2.6639649868011475\n",
            "66 \t 2.5023717880249023\n",
            "67 \t 3.3930935859680176\n",
            "68 \t 2.751112461090088\n",
            "69 \t 2.9922773838043213\n",
            "70 \t 2.976818799972534\n",
            "71 \t 3.606764793395996\n",
            "72 \t 0.7602837085723877\n",
            "73 \t 2.912552833557129\n",
            "74 \t 2.896329164505005\n",
            "75 \t 2.6554410457611084\n",
            "76 \t 3.6345179080963135\n",
            "77 \t 2.5866897106170654\n",
            "78 \t 2.974567413330078\n",
            "79 \t 2.935025930404663\n",
            "80 \t 3.649808645248413\n",
            "81 \t 3.003068208694458\n",
            "82 \t 2.7187228202819824\n",
            "83 \t 2.895078420639038\n",
            "84 \t 3.130690097808838\n",
            "85 \t 3.3791041374206543\n",
            "86 \t 2.9672505855560303\n",
            "87 \t 2.956129550933838\n",
            "88 \t 2.8880741596221924\n",
            "89 \t 3.530839204788208\n",
            "90 \t 2.7463696002960205\n",
            "91 \t 2.686028003692627\n",
            "92 \t 2.7642266750335693\n",
            "93 \t 3.7681310176849365\n",
            "94 \t 2.5090131759643555\n",
            "95 \t 2.799968957901001\n",
            "96 \t 2.887180805206299\n",
            "97 \t 3.0074071884155273\n",
            "98 \t 3.0582242012023926\n",
            "99 \t 2.570662021636963\n"
          ]
        }
      ]
    },
    {
      "cell_type": "markdown",
      "source": [
        "## PART 2 EVALUATION"
      ],
      "metadata": {
        "id": "r82VjyI1JJic"
      }
    },
    {
      "cell_type": "code",
      "source": [
        "#  Qrel(query_id='13540', doc_id='1276852', relevance=1, iteration='0'),\n",
        "\n",
        "qrels = ir_measures.read_trec_qrels('/content/qrels')\n",
        "qrels_ = dict()\n",
        "qrels_new = dict()\n",
        "for i in list(qrels):\n",
        "  query_id = i[0]\n",
        "  doc_id = i[1]\n",
        "  relevance = i[2]\n",
        "  qrels_[doc_id] = relevance\n",
        "  qrels_new[query_id] = qrels_"
      ],
      "metadata": {
        "id": "AMJdekE5rgu3"
      },
      "execution_count": 105,
      "outputs": []
    },
    {
      "cell_type": "code",
      "source": [
        "import datetime\n",
        "import time\n",
        "q = pd.read_csv('/content/queries.csv')\n",
        "q = q.to_dict('records')\n",
        "runs = dict()\n",
        "for i in range(len(q)):\n",
        "  st = time.time()\n",
        "  queries = dict()\n",
        "  query = {\n",
        "        'query': {\n",
        "            'bool': {\n",
        "                'must': {\n",
        "                    'match': {\n",
        "                        'text_right': q[i]['text_left']\n",
        "                    }\n",
        "                }\n",
        "            }\n",
        "        }\n",
        "    }\n",
        "  search_results = es.search(index = 'hello', body = query, size = 20)\n",
        "  res = search_results['hits']\n",
        "  for hit in res['hits']:\n",
        "    doc_id = str(hit['_id'])\n",
        "    score = float(hit['_score'])\n",
        "    query_id = i\n",
        "    queries[doc_id] = score\n",
        "\n",
        "  runs[str(q[i]['id_left'])] = queries\n",
        "  \n",
        "scores = ir_measures.calc_aggregate([P(rel=1)@10, P(rel=1)@20, AP], qrels_new, runs)\n",
        "et = time.time()\n",
        "elapsed_time = et - st\n",
        "print(scores)\n",
        "print('TIME', elapsed_time)"
      ],
      "metadata": {
        "colab": {
          "base_uri": "https://localhost:8080/"
        },
        "id": "Rm0Qv6Z94fdZ",
        "outputId": "81550d06-09fb-46b1-8762-ed6f5abe5398"
      },
      "execution_count": 106,
      "outputs": [
        {
          "output_type": "stream",
          "name": "stderr",
          "text": [
            "<ipython-input-106-858307cd7779>:20: DeprecationWarning: The 'body' parameter is deprecated and will be removed in a future version. Instead use individual parameters.\n",
            "  search_results = es.search(index = 'hello', body = query, size = 20)\n"
          ]
        },
        {
          "output_type": "stream",
          "name": "stdout",
          "text": [
            "{AP: 0.0004083007253942143, P@20: 0.16450000000000006, P@10: 0.22599999999999987}\n",
            "TIME 0.36681342124938965\n"
          ]
        }
      ]
    },
    {
      "cell_type": "code",
      "source": [
        "# [ScoredDoc(query_id='158491', doc_id='625257', score=15.660703104969318),\n",
        "\n",
        "bm25 = ir_measures.read_trec_run('/content/BM25.res')\n",
        "bm25_ = dict()\n",
        "creators_runs = dict()\n",
        "for i in list(bm25):\n",
        "  st = time.time()\n",
        "  query_id = i[0]\n",
        "  doc_id = i[1]\n",
        "  score = i[2]\n",
        "  bm25_[doc_id] = score\n",
        "  creators_runs[query_id] = bm25_\n",
        "\n",
        "scores = ir_measures.calc_aggregate([P(rel=1)@10, P(rel=1)@20, AP], qrels_new, creators_runs)\n",
        "et = time.time()\n",
        "elapsed_time = et - st\n",
        "print(scores)\n",
        "print('TIME', elapsed_time)"
      ],
      "metadata": {
        "colab": {
          "base_uri": "https://localhost:8080/"
        },
        "id": "MiUEvMwyLTF-",
        "outputId": "6e60dc1e-45aa-4f46-9636-ec552b322ad0"
      },
      "execution_count": 107,
      "outputs": [
        {
          "output_type": "stream",
          "name": "stdout",
          "text": [
            "{AP: 0.010808749000016847, P@20: 0.3000000000000005, P@10: 0.3000000000000005}\n",
            "TIME 0.6766703128814697\n"
          ]
        }
      ]
    }
  ]
}