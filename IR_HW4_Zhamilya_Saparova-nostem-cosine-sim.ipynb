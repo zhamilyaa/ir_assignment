{
  "nbformat": 4,
  "nbformat_minor": 0,
  "metadata": {
    "colab": {
      "provenance": []
    },
    "kernelspec": {
      "name": "python3",
      "display_name": "Python 3"
    },
    "language_info": {
      "name": "python"
    }
  },
  "cells": [
    {
      "cell_type": "markdown",
      "source": [
        "## HW4 - Zhamilya Saparova\n"
      ],
      "metadata": {
        "id": "0VgVRgNIiH1q"
      }
    },
    {
      "cell_type": "code",
      "source": [
        "pip install elasticsearch"
      ],
      "metadata": {
        "colab": {
          "base_uri": "https://localhost:8080/"
        },
        "id": "2YRTbdQBiW-d",
        "outputId": "94d720ea-0b75-4890-e5c0-c926c3ccf06f"
      },
      "execution_count": 139,
      "outputs": [
        {
          "output_type": "stream",
          "name": "stdout",
          "text": [
            "Looking in indexes: https://pypi.org/simple, https://us-python.pkg.dev/colab-wheels/public/simple/\n",
            "Requirement already satisfied: elasticsearch in /usr/local/lib/python3.9/dist-packages (8.7.0)\n",
            "Requirement already satisfied: elastic-transport<9,>=8 in /usr/local/lib/python3.9/dist-packages (from elasticsearch) (8.4.0)\n",
            "Requirement already satisfied: urllib3<2,>=1.26.2 in /usr/local/lib/python3.9/dist-packages (from elastic-transport<9,>=8->elasticsearch) (1.26.15)\n",
            "Requirement already satisfied: certifi in /usr/local/lib/python3.9/dist-packages (from elastic-transport<9,>=8->elasticsearch) (2022.12.7)\n"
          ]
        }
      ]
    },
    {
      "cell_type": "code",
      "source": [
        "pip install ir_measures"
      ],
      "metadata": {
        "colab": {
          "base_uri": "https://localhost:8080/"
        },
        "id": "e9T6D_5p7pX2",
        "outputId": "55b37420-b6b3-4f59-e0c7-1c5a06ef52f5"
      },
      "execution_count": 140,
      "outputs": [
        {
          "output_type": "stream",
          "name": "stdout",
          "text": [
            "Looking in indexes: https://pypi.org/simple, https://us-python.pkg.dev/colab-wheels/public/simple/\n",
            "Requirement already satisfied: ir_measures in /usr/local/lib/python3.9/dist-packages (0.3.1)\n",
            "Requirement already satisfied: cwl-eval>=1.0.10 in /usr/local/lib/python3.9/dist-packages (from ir_measures) (1.0.12)\n",
            "Requirement already satisfied: pytrec-eval-terrier>=0.5.2 in /usr/local/lib/python3.9/dist-packages (from ir_measures) (0.5.5)\n",
            "Requirement already satisfied: numpy in /usr/local/lib/python3.9/dist-packages (from cwl-eval>=1.0.10->ir_measures) (1.22.4)\n"
          ]
        }
      ]
    },
    {
      "cell_type": "code",
      "source": [
        "%config IPCompleter.greedy=True\n",
        "import re\n",
        "import json\n",
        "from collections import defaultdict\n",
        "from tqdm import tqdm_notebook as tqdm\n",
        "from elasticsearch import Elasticsearch\n",
        "from elasticsearch.helpers import parallel_bulk\n",
        "from pymystem3 import Mystem\n",
        "from sklearn.feature_extraction.text import CountVectorizer\n",
        "import requests\n",
        "from time import time\n",
        "import pandas as pd\n",
        "import numpy as np\n",
        "import ir_measures\n",
        "from ir_measures import *"
      ],
      "metadata": {
        "id": "-xwHRYXGN4d7"
      },
      "execution_count": 141,
      "outputs": []
    },
    {
      "cell_type": "code",
      "execution_count": 142,
      "metadata": {
        "colab": {
          "base_uri": "https://localhost:8080/"
        },
        "id": "nOsfe4JSsyMD",
        "outputId": "9f33d0e2-bd5d-4cec-85e7-4d519a904829"
      },
      "outputs": [
        {
          "output_type": "stream",
          "name": "stdout",
          "text": [
            "Connection to ES Server successful\n"
          ]
        }
      ],
      "source": [
        "es = Elasticsearch(\"http://localhost:9200\")\n",
        "ELASTIC_PASSWORD = 'OsTuAI29lih200BZT70Pp4Sy'\n",
        "\n",
        "CLOUD_ID = 'ir_hw4:dXMtY2VudHJhbDEuZ2NwLmNsb3VkLmVzLmlvOjQ0MyRiYzA3ZDRkMGRhYjc0OGNmOGQyZGE0ZjEzZDYyMTY5OCQ4ZDEyYTI0ZGU5Yzc0ZmI4YTViMmFlZWU4M2M5NDcxMQ=='\n",
        "es = Elasticsearch(cloud_id = CLOUD_ID, basic_auth=('elastic', ELASTIC_PASSWORD))\n",
        "\n",
        "print(\"Connection to ES Server successful\")"
      ]
    },
    {
      "cell_type": "code",
      "source": [
        "es.indices.delete(index='hello')"
      ],
      "metadata": {
        "colab": {
          "base_uri": "https://localhost:8080/"
        },
        "id": "_lc-ONRM-8va",
        "outputId": "601a41c6-1b85-4f32-d347-707902f1d975"
      },
      "execution_count": 143,
      "outputs": [
        {
          "output_type": "execute_result",
          "data": {
            "text/plain": [
              "ObjectApiResponse({'acknowledged': True})"
            ]
          },
          "metadata": {},
          "execution_count": 143
        }
      ]
    },
    {
      "cell_type": "code",
      "source": [
        "es.indices.create(index='hello')"
      ],
      "metadata": {
        "colab": {
          "base_uri": "https://localhost:8080/"
        },
        "id": "uhV_AsFVooKO",
        "outputId": "f0a5c6f6-65ca-4082-ad4a-94a97cdf849f"
      },
      "execution_count": 144,
      "outputs": [
        {
          "output_type": "execute_result",
          "data": {
            "text/plain": [
              "ObjectApiResponse({'acknowledged': True, 'shards_acknowledged': True, 'index': 'hello'})"
            ]
          },
          "metadata": {},
          "execution_count": 144
        }
      ]
    },
    {
      "cell_type": "code",
      "source": [
        "settings_final = {\n",
        "    'mappings': {\n",
        "        'properties': {\n",
        "            'id_right': {\n",
        "                'type': 'integer'\n",
        "            },\n",
        "            'text_right': {\n",
        "                'type': 'text',\n",
        "                'fields': {\n",
        "                    'white':{\n",
        "                        'type': 'text',\n",
        "                        'analyzer': 'white_analyzer'\n",
        "                    }\n",
        "                }\n",
        "            }\n",
        "        }\n",
        "    },\n",
        "    'settings': {\n",
        "        'analysis': {\n",
        "            'analyzer': {\n",
        "                'white_analyzer':{\n",
        "                    'tokenizer': 'white_20',\n",
        "                    'filter': [\n",
        "                        'lowercase',\n",
        "                        'snowball_eng'\n",
        "                    ]\n",
        "                }\n",
        "            },\n",
        "            'tokenizer': {\n",
        "                'white_20': {\n",
        "                    'type': 'whitespace',\n",
        "                }\n",
        "            },\n",
        "            'filter': {\n",
        "                'snowball_eng':{\n",
        "                    'type': 'snowball',\n",
        "                    'language': 'english'\n",
        "                }\n",
        "            }\n",
        "        }\n",
        "    }\n",
        "    \n",
        "}"
      ],
      "metadata": {
        "id": "sorv7Z9BxmW5"
      },
      "execution_count": 145,
      "outputs": []
    },
    {
      "cell_type": "code",
      "source": [
        "settings_final_nostem = {\n",
        "    'mappings': {\n",
        "        'properties': {\n",
        "            'id_right': {\n",
        "                'type': 'integer'\n",
        "            },\n",
        "            'text_right': {\n",
        "                'type': 'text',\n",
        "                'fields': {\n",
        "                    'white':{\n",
        "                        'type': 'text',\n",
        "                        'analyzer': 'white_analyzer'\n",
        "                    }\n",
        "                }\n",
        "            },\n",
        "        }\n",
        "    },\n",
        "    'settings': {\n",
        "        'analysis': {\n",
        "            'analyzer': {\n",
        "                'white_analyzer':{\n",
        "                    'tokenizer': 'white_20',\n",
        "                    'filter': [\n",
        "                        'lowercase',\n",
        "                    ]\n",
        "                }\n",
        "            },\n",
        "            'tokenizer': {\n",
        "                'white_20': {\n",
        "                    'type': 'whitespace',\n",
        "                }\n",
        "            },\n",
        "        }\n",
        "    }\n",
        "}"
      ],
      "metadata": {
        "id": "Lcaw6YAjxnxf"
      },
      "execution_count": 146,
      "outputs": []
    },
    {
      "cell_type": "code",
      "source": [
        "def recreate_index():\n",
        "    es.indices.delete(index='hello')\n",
        "    es.indices.create(index='hello', body = settings_final)"
      ],
      "metadata": {
        "id": "cUQ-gN0ZF3wq"
      },
      "execution_count": 147,
      "outputs": []
    },
    {
      "cell_type": "code",
      "source": [
        "def recreate_index_nostem():\n",
        "    es.indices.delete(index='hello')\n",
        "    es.indices.create(index='hello', body = settings_final_nostem)"
      ],
      "metadata": {
        "id": "tXHlaQ_LF-Yo"
      },
      "execution_count": 148,
      "outputs": []
    },
    {
      "cell_type": "code",
      "source": [
        "def check_analyzer(analyzer, text):\n",
        "    body = analyzer\n",
        "    body['text'] = text\n",
        "    \n",
        "    tokens = es.indices.analyze(index='hello', body=body)['tokens']\n",
        "    tokens = [token_info['token'] for token_info in tokens]\n",
        "    return tokens"
      ],
      "metadata": {
        "id": "gvfXm6uIGCGO"
      },
      "execution_count": 149,
      "outputs": []
    },
    {
      "cell_type": "code",
      "source": [
        "# recreate_index()"
      ],
      "metadata": {
        "id": "Ml054HV8g44A"
      },
      "execution_count": 150,
      "outputs": []
    },
    {
      "cell_type": "code",
      "source": [
        "recreate_index_nostem()"
      ],
      "metadata": {
        "id": "w1Md6i8RtlWY",
        "colab": {
          "base_uri": "https://localhost:8080/"
        },
        "outputId": "d7f8491d-c01c-4b72-dcae-64da65107f5b"
      },
      "execution_count": 151,
      "outputs": [
        {
          "output_type": "stream",
          "name": "stderr",
          "text": [
            "<ipython-input-148-8cc1ef7b44ce>:3: DeprecationWarning: The 'body' parameter is deprecated and will be removed in a future version. Instead use individual parameters.\n",
            "  es.indices.create(index='hello', body = settings_final_nostem)\n"
          ]
        }
      ]
    },
    {
      "cell_type": "markdown",
      "source": [
        "## INDEX DOCUMENTS"
      ],
      "metadata": {
        "id": "Ice9OkrZzMgk"
      }
    },
    {
      "cell_type": "code",
      "source": [
        "doc_df = pd.read_csv('/content/documents.csv')\n",
        "doc = doc_df.to_dict('records')"
      ],
      "metadata": {
        "id": "O4AGJ47VGhj8"
      },
      "execution_count": 152,
      "outputs": []
    },
    {
      "cell_type": "code",
      "source": [
        "type(doc), len(doc), type(doc_df), doc_df.shape"
      ],
      "metadata": {
        "colab": {
          "base_uri": "https://localhost:8080/"
        },
        "id": "Xsl6kqG0xPJi",
        "outputId": "799c4f95-15a7-482a-c41d-41131f79321e"
      },
      "execution_count": 153,
      "outputs": [
        {
          "output_type": "execute_result",
          "data": {
            "text/plain": [
              "(list, 369721, pandas.core.frame.DataFrame, (369721, 2))"
            ]
          },
          "metadata": {},
          "execution_count": 153
        }
      ]
    },
    {
      "cell_type": "code",
      "source": [
        "doc_df.head()"
      ],
      "metadata": {
        "colab": {
          "base_uri": "https://localhost:8080/",
          "height": 204
        },
        "id": "ex-6xWJPi8l5",
        "outputId": "7b2e6076-0999-4982-d071-50082f4f1946"
      },
      "execution_count": 154,
      "outputs": [
        {
          "output_type": "execute_result",
          "data": {
            "text/plain": [
              "   id_right                                         text_right\n",
              "0   1781133  it was used in landing craft during world war ...\n",
              "1   2426736  after rejecting an offer from cambridge univer...\n",
              "2   2224122  mat zan coached kuala lumpur fa in 1999 and wo...\n",
              "3    219642  a barcode is a machine readable optical label ...\n",
              "4   1728654  since the subordination of the monarchy under ..."
            ],
            "text/html": [
              "\n",
              "  <div id=\"df-8dd0f594-f255-4a3f-a8bf-8a257ca97bbf\">\n",
              "    <div class=\"colab-df-container\">\n",
              "      <div>\n",
              "<style scoped>\n",
              "    .dataframe tbody tr th:only-of-type {\n",
              "        vertical-align: middle;\n",
              "    }\n",
              "\n",
              "    .dataframe tbody tr th {\n",
              "        vertical-align: top;\n",
              "    }\n",
              "\n",
              "    .dataframe thead th {\n",
              "        text-align: right;\n",
              "    }\n",
              "</style>\n",
              "<table border=\"1\" class=\"dataframe\">\n",
              "  <thead>\n",
              "    <tr style=\"text-align: right;\">\n",
              "      <th></th>\n",
              "      <th>id_right</th>\n",
              "      <th>text_right</th>\n",
              "    </tr>\n",
              "  </thead>\n",
              "  <tbody>\n",
              "    <tr>\n",
              "      <th>0</th>\n",
              "      <td>1781133</td>\n",
              "      <td>it was used in landing craft during world war ...</td>\n",
              "    </tr>\n",
              "    <tr>\n",
              "      <th>1</th>\n",
              "      <td>2426736</td>\n",
              "      <td>after rejecting an offer from cambridge univer...</td>\n",
              "    </tr>\n",
              "    <tr>\n",
              "      <th>2</th>\n",
              "      <td>2224122</td>\n",
              "      <td>mat zan coached kuala lumpur fa in 1999 and wo...</td>\n",
              "    </tr>\n",
              "    <tr>\n",
              "      <th>3</th>\n",
              "      <td>219642</td>\n",
              "      <td>a barcode is a machine readable optical label ...</td>\n",
              "    </tr>\n",
              "    <tr>\n",
              "      <th>4</th>\n",
              "      <td>1728654</td>\n",
              "      <td>since the subordination of the monarchy under ...</td>\n",
              "    </tr>\n",
              "  </tbody>\n",
              "</table>\n",
              "</div>\n",
              "      <button class=\"colab-df-convert\" onclick=\"convertToInteractive('df-8dd0f594-f255-4a3f-a8bf-8a257ca97bbf')\"\n",
              "              title=\"Convert this dataframe to an interactive table.\"\n",
              "              style=\"display:none;\">\n",
              "        \n",
              "  <svg xmlns=\"http://www.w3.org/2000/svg\" height=\"24px\"viewBox=\"0 0 24 24\"\n",
              "       width=\"24px\">\n",
              "    <path d=\"M0 0h24v24H0V0z\" fill=\"none\"/>\n",
              "    <path d=\"M18.56 5.44l.94 2.06.94-2.06 2.06-.94-2.06-.94-.94-2.06-.94 2.06-2.06.94zm-11 1L8.5 8.5l.94-2.06 2.06-.94-2.06-.94L8.5 2.5l-.94 2.06-2.06.94zm10 10l.94 2.06.94-2.06 2.06-.94-2.06-.94-.94-2.06-.94 2.06-2.06.94z\"/><path d=\"M17.41 7.96l-1.37-1.37c-.4-.4-.92-.59-1.43-.59-.52 0-1.04.2-1.43.59L10.3 9.45l-7.72 7.72c-.78.78-.78 2.05 0 2.83L4 21.41c.39.39.9.59 1.41.59.51 0 1.02-.2 1.41-.59l7.78-7.78 2.81-2.81c.8-.78.8-2.07 0-2.86zM5.41 20L4 18.59l7.72-7.72 1.47 1.35L5.41 20z\"/>\n",
              "  </svg>\n",
              "      </button>\n",
              "      \n",
              "  <style>\n",
              "    .colab-df-container {\n",
              "      display:flex;\n",
              "      flex-wrap:wrap;\n",
              "      gap: 12px;\n",
              "    }\n",
              "\n",
              "    .colab-df-convert {\n",
              "      background-color: #E8F0FE;\n",
              "      border: none;\n",
              "      border-radius: 50%;\n",
              "      cursor: pointer;\n",
              "      display: none;\n",
              "      fill: #1967D2;\n",
              "      height: 32px;\n",
              "      padding: 0 0 0 0;\n",
              "      width: 32px;\n",
              "    }\n",
              "\n",
              "    .colab-df-convert:hover {\n",
              "      background-color: #E2EBFA;\n",
              "      box-shadow: 0px 1px 2px rgba(60, 64, 67, 0.3), 0px 1px 3px 1px rgba(60, 64, 67, 0.15);\n",
              "      fill: #174EA6;\n",
              "    }\n",
              "\n",
              "    [theme=dark] .colab-df-convert {\n",
              "      background-color: #3B4455;\n",
              "      fill: #D2E3FC;\n",
              "    }\n",
              "\n",
              "    [theme=dark] .colab-df-convert:hover {\n",
              "      background-color: #434B5C;\n",
              "      box-shadow: 0px 1px 3px 1px rgba(0, 0, 0, 0.15);\n",
              "      filter: drop-shadow(0px 1px 2px rgba(0, 0, 0, 0.3));\n",
              "      fill: #FFFFFF;\n",
              "    }\n",
              "  </style>\n",
              "\n",
              "      <script>\n",
              "        const buttonEl =\n",
              "          document.querySelector('#df-8dd0f594-f255-4a3f-a8bf-8a257ca97bbf button.colab-df-convert');\n",
              "        buttonEl.style.display =\n",
              "          google.colab.kernel.accessAllowed ? 'block' : 'none';\n",
              "\n",
              "        async function convertToInteractive(key) {\n",
              "          const element = document.querySelector('#df-8dd0f594-f255-4a3f-a8bf-8a257ca97bbf');\n",
              "          const dataTable =\n",
              "            await google.colab.kernel.invokeFunction('convertToInteractive',\n",
              "                                                     [key], {});\n",
              "          if (!dataTable) return;\n",
              "\n",
              "          const docLinkHtml = 'Like what you see? Visit the ' +\n",
              "            '<a target=\"_blank\" href=https://colab.research.google.com/notebooks/data_table.ipynb>data table notebook</a>'\n",
              "            + ' to learn more about interactive tables.';\n",
              "          element.innerHTML = '';\n",
              "          dataTable['output_type'] = 'display_data';\n",
              "          await google.colab.output.renderOutput(dataTable, element);\n",
              "          const docLink = document.createElement('div');\n",
              "          docLink.innerHTML = docLinkHtml;\n",
              "          element.appendChild(docLink);\n",
              "        }\n",
              "      </script>\n",
              "    </div>\n",
              "  </div>\n",
              "  "
            ]
          },
          "metadata": {},
          "execution_count": 154
        }
      ]
    },
    {
      "cell_type": "code",
      "source": [
        "def create_es_action(index, doc_id, document):\n",
        "    return {\n",
        "        '_index': index,\n",
        "        '_id': doc_id,\n",
        "        '_source': document\n",
        "    }"
      ],
      "metadata": {
        "id": "naeSgrcCSzhz"
      },
      "execution_count": 155,
      "outputs": []
    },
    {
      "cell_type": "code",
      "source": [
        "def es_actions_generator():\n",
        "    for doc_id in doc:\n",
        "        yield create_es_action('hello', doc_id['id_right'], doc_id)"
      ],
      "metadata": {
        "id": "YaeoQWOTS0Z0"
      },
      "execution_count": 156,
      "outputs": []
    },
    {
      "cell_type": "code",
      "source": [
        "# ADDING DOCS TO THE INDEX\n",
        "%%time \n",
        "for ok, result in parallel_bulk(es, es_actions_generator(), queue_size=4, thread_count=4, chunk_size=1000):\n",
        "    if not ok:\n",
        "        print(result)"
      ],
      "metadata": {
        "id": "T_3pMkHCyg-d",
        "colab": {
          "base_uri": "https://localhost:8080/"
        },
        "outputId": "fad4e61e-acab-4c9d-9fae-c3a19a75dc11"
      },
      "execution_count": 167,
      "outputs": [
        {
          "output_type": "stream",
          "name": "stdout",
          "text": [
            "CPU times: user 1min 18s, sys: 710 ms, total: 1min 19s\n",
            "Wall time: 2min 4s\n"
          ]
        }
      ]
    },
    {
      "cell_type": "markdown",
      "source": [
        "## SEARCH\n"
      ],
      "metadata": {
        "id": "e_zm1HmbJPwR"
      }
    },
    {
      "cell_type": "code",
      "source": [
        "def search(query, *args):\n",
        "    pretty_print_result(es.search(index='hello', body=query, size=20), args)\n",
        "                        \n",
        "def pretty_print_result(search_result, fields=[]):\n",
        "    res = search_result['hits']\n",
        "    print(f'Total documents: {res[\"total\"][\"value\"]}')\n",
        "    for hit in res['hits']:\n",
        "        print(f'Doc {hit[\"_id\"]}, score is {hit[\"_score\"]}')\n",
        "        for field in fields:\n",
        "            print(f'{field}: {hit[\"_source\"][field]}')\n",
        "                  \n",
        "def get_doc_by_id(doc_id):\n",
        "    return es.get(index='hello', id=doc_id)['_source']"
      ],
      "metadata": {
        "id": "vr6WztEWzXN2"
      },
      "execution_count": 168,
      "outputs": []
    },
    {
      "cell_type": "code",
      "source": [
        "%%time \n",
        "\n",
        "query = {\n",
        "    'query': {\n",
        "        'match_all': {}\n",
        "    }\n",
        "}\n",
        "search(query)"
      ],
      "metadata": {
        "colab": {
          "base_uri": "https://localhost:8080/"
        },
        "id": "YHPbojMyyhA2",
        "outputId": "6a6745e2-3594-48f8-a3fd-22ac75dc40af"
      },
      "execution_count": 169,
      "outputs": [
        {
          "output_type": "stream",
          "name": "stderr",
          "text": [
            "<ipython-input-168-fae58037f7d9>:2: DeprecationWarning: The 'body' parameter is deprecated and will be removed in a future version. Instead use individual parameters.\n",
            "  pretty_print_result(es.search(index='hello', body=query, size=20), args)\n"
          ]
        },
        {
          "output_type": "stream",
          "name": "stdout",
          "text": [
            "Total documents: 10000\n",
            "Doc 1781133, score is 1.0\n",
            "Doc 2426736, score is 1.0\n",
            "Doc 2224122, score is 1.0\n",
            "Doc 219642, score is 1.0\n",
            "Doc 1728654, score is 1.0\n",
            "Doc 1889917, score is 1.0\n",
            "Doc 1518473, score is 1.0\n",
            "Doc 1459418, score is 1.0\n",
            "Doc 1102956, score is 1.0\n",
            "Doc 931408, score is 1.0\n",
            "Doc 1043905, score is 1.0\n",
            "Doc 488327, score is 1.0\n",
            "Doc 1069841, score is 1.0\n",
            "Doc 1601336, score is 1.0\n",
            "Doc 1415191, score is 1.0\n",
            "Doc 1531137, score is 1.0\n",
            "Doc 912052, score is 1.0\n",
            "Doc 935016, score is 1.0\n",
            "Doc 1671729, score is 1.0\n",
            "Doc 1946935, score is 1.0\n",
            "CPU times: user 190 ms, sys: 9.1 ms, total: 199 ms\n",
            "Wall time: 7.89 s\n"
          ]
        }
      ]
    },
    {
      "cell_type": "code",
      "source": [
        "%%time\n",
        "\n",
        "query = {\n",
        "    'query': {\n",
        "        'bool': {\n",
        "            'must': {\n",
        "                'match': {\n",
        "                    'text_right': 'private boats'\n",
        "                }\n",
        "            }\n",
        "        }\n",
        "    }\n",
        "}\n",
        "\n",
        "search(query)"
      ],
      "metadata": {
        "colab": {
          "base_uri": "https://localhost:8080/"
        },
        "id": "u9H1UGKZBh4N",
        "outputId": "dbf6fcfc-b5f9-403d-e97c-d54f2973756b"
      },
      "execution_count": 170,
      "outputs": [
        {
          "output_type": "stream",
          "name": "stderr",
          "text": [
            "<ipython-input-168-fae58037f7d9>:2: DeprecationWarning: The 'body' parameter is deprecated and will be removed in a future version. Instead use individual parameters.\n",
            "  pretty_print_result(es.search(index='hello', body=query, size=20), args)\n"
          ]
        },
        {
          "output_type": "stream",
          "name": "stdout",
          "text": [
            "Total documents: 10000\n",
            "Doc 2355214, score is 13.976819\n",
            "Doc 644717, score is 13.686264\n",
            "Doc 1596321, score is 13.1172695\n",
            "Doc 2412578, score is 12.66897\n",
            "Doc 352785, score is 12.558475\n",
            "Doc 1272069, score is 12.242398\n",
            "Doc 1226233, score is 12.007725\n",
            "Doc 1856656, score is 12.007725\n",
            "Doc 880419, score is 12.007725\n",
            "Doc 919902, score is 12.007725\n",
            "Doc 1879751, score is 12.007725\n",
            "Doc 1110284, score is 11.860317\n",
            "Doc 1329021, score is 10.934549\n",
            "Doc 2029858, score is 10.934549\n",
            "Doc 1964437, score is 10.934549\n",
            "Doc 1714910, score is 10.934549\n",
            "Doc 551366, score is 10.934549\n",
            "Doc 885487, score is 10.934549\n",
            "Doc 2075473, score is 10.934549\n",
            "Doc 1185710, score is 10.884844\n",
            "CPU times: user 238 ms, sys: 8.86 ms, total: 247 ms\n",
            "Wall time: 8.73 s\n"
          ]
        }
      ]
    },
    {
      "cell_type": "code",
      "source": [
        "pip install -U sentence-transformers "
      ],
      "metadata": {
        "colab": {
          "base_uri": "https://localhost:8080/"
        },
        "id": "bzNAgmqwgcnz",
        "outputId": "3facd7fa-7b12-44c9-b92c-6ad94c4ed3cb"
      },
      "execution_count": 171,
      "outputs": [
        {
          "output_type": "stream",
          "name": "stdout",
          "text": [
            "Looking in indexes: https://pypi.org/simple, https://us-python.pkg.dev/colab-wheels/public/simple/\n",
            "Requirement already satisfied: sentence-transformers in /usr/local/lib/python3.9/dist-packages (2.2.2)\n",
            "Requirement already satisfied: tqdm in /usr/local/lib/python3.9/dist-packages (from sentence-transformers) (4.65.0)\n",
            "Requirement already satisfied: numpy in /usr/local/lib/python3.9/dist-packages (from sentence-transformers) (1.22.4)\n",
            "Requirement already satisfied: torch>=1.6.0 in /usr/local/lib/python3.9/dist-packages (from sentence-transformers) (2.0.0+cu118)\n",
            "Requirement already satisfied: torchvision in /usr/local/lib/python3.9/dist-packages (from sentence-transformers) (0.15.1+cu118)\n",
            "Requirement already satisfied: sentencepiece in /usr/local/lib/python3.9/dist-packages (from sentence-transformers) (0.1.97)\n",
            "Requirement already satisfied: scikit-learn in /usr/local/lib/python3.9/dist-packages (from sentence-transformers) (1.2.2)\n",
            "Requirement already satisfied: transformers<5.0.0,>=4.6.0 in /usr/local/lib/python3.9/dist-packages (from sentence-transformers) (4.27.4)\n",
            "Requirement already satisfied: scipy in /usr/local/lib/python3.9/dist-packages (from sentence-transformers) (1.10.1)\n",
            "Requirement already satisfied: huggingface-hub>=0.4.0 in /usr/local/lib/python3.9/dist-packages (from sentence-transformers) (0.13.4)\n",
            "Requirement already satisfied: nltk in /usr/local/lib/python3.9/dist-packages (from sentence-transformers) (3.8.1)\n",
            "Requirement already satisfied: typing-extensions>=3.7.4.3 in /usr/local/lib/python3.9/dist-packages (from huggingface-hub>=0.4.0->sentence-transformers) (4.5.0)\n",
            "Requirement already satisfied: packaging>=20.9 in /usr/local/lib/python3.9/dist-packages (from huggingface-hub>=0.4.0->sentence-transformers) (23.0)\n",
            "Requirement already satisfied: pyyaml>=5.1 in /usr/local/lib/python3.9/dist-packages (from huggingface-hub>=0.4.0->sentence-transformers) (6.0)\n",
            "Requirement already satisfied: requests in /usr/local/lib/python3.9/dist-packages (from huggingface-hub>=0.4.0->sentence-transformers) (2.27.1)\n",
            "Requirement already satisfied: filelock in /usr/local/lib/python3.9/dist-packages (from huggingface-hub>=0.4.0->sentence-transformers) (3.10.7)\n",
            "Requirement already satisfied: networkx in /usr/local/lib/python3.9/dist-packages (from torch>=1.6.0->sentence-transformers) (3.0)\n",
            "Requirement already satisfied: jinja2 in /usr/local/lib/python3.9/dist-packages (from torch>=1.6.0->sentence-transformers) (3.1.2)\n",
            "Requirement already satisfied: sympy in /usr/local/lib/python3.9/dist-packages (from torch>=1.6.0->sentence-transformers) (1.11.1)\n",
            "Requirement already satisfied: triton==2.0.0 in /usr/local/lib/python3.9/dist-packages (from torch>=1.6.0->sentence-transformers) (2.0.0)\n",
            "Requirement already satisfied: cmake in /usr/local/lib/python3.9/dist-packages (from triton==2.0.0->torch>=1.6.0->sentence-transformers) (3.25.2)\n",
            "Requirement already satisfied: lit in /usr/local/lib/python3.9/dist-packages (from triton==2.0.0->torch>=1.6.0->sentence-transformers) (16.0.0)\n",
            "Requirement already satisfied: regex!=2019.12.17 in /usr/local/lib/python3.9/dist-packages (from transformers<5.0.0,>=4.6.0->sentence-transformers) (2022.10.31)\n",
            "Requirement already satisfied: tokenizers!=0.11.3,<0.14,>=0.11.1 in /usr/local/lib/python3.9/dist-packages (from transformers<5.0.0,>=4.6.0->sentence-transformers) (0.13.3)\n",
            "Requirement already satisfied: joblib in /usr/local/lib/python3.9/dist-packages (from nltk->sentence-transformers) (1.1.1)\n",
            "Requirement already satisfied: click in /usr/local/lib/python3.9/dist-packages (from nltk->sentence-transformers) (8.1.3)\n",
            "Requirement already satisfied: threadpoolctl>=2.0.0 in /usr/local/lib/python3.9/dist-packages (from scikit-learn->sentence-transformers) (3.1.0)\n",
            "Requirement already satisfied: pillow!=8.3.*,>=5.3.0 in /usr/local/lib/python3.9/dist-packages (from torchvision->sentence-transformers) (8.4.0)\n",
            "Requirement already satisfied: MarkupSafe>=2.0 in /usr/local/lib/python3.9/dist-packages (from jinja2->torch>=1.6.0->sentence-transformers) (2.1.2)\n",
            "Requirement already satisfied: idna<4,>=2.5 in /usr/local/lib/python3.9/dist-packages (from requests->huggingface-hub>=0.4.0->sentence-transformers) (3.4)\n",
            "Requirement already satisfied: charset-normalizer~=2.0.0 in /usr/local/lib/python3.9/dist-packages (from requests->huggingface-hub>=0.4.0->sentence-transformers) (2.0.12)\n",
            "Requirement already satisfied: certifi>=2017.4.17 in /usr/local/lib/python3.9/dist-packages (from requests->huggingface-hub>=0.4.0->sentence-transformers) (2022.12.7)\n",
            "Requirement already satisfied: urllib3<1.27,>=1.21.1 in /usr/local/lib/python3.9/dist-packages (from requests->huggingface-hub>=0.4.0->sentence-transformers) (1.26.15)\n",
            "Requirement already satisfied: mpmath>=0.19 in /usr/local/lib/python3.9/dist-packages (from sympy->torch>=1.6.0->sentence-transformers) (1.3.0)\n"
          ]
        }
      ]
    },
    {
      "cell_type": "code",
      "source": [
        "import datetime\n",
        "import time\n",
        "import torch\n",
        "from sentence_transformers import SentenceTransformer, util\n",
        "import torch\n",
        "\n",
        "embedder = SentenceTransformer('multi-qa-minilm-l6-cos-v1')\n",
        "\n",
        "q = pd.read_csv('/content/queries.csv')\n",
        "q = q.to_dict('records')\n",
        "runs = dict()\n",
        "\n",
        "for i in range(len(q)):\n",
        "  st = time.time()\n",
        "  queries = dict()\n",
        "  query = {\n",
        "        'query': {\n",
        "            'bool': {\n",
        "                'must': {\n",
        "                    'match': {\n",
        "                        'text_right': q[i]['text_left']\n",
        "                    }\n",
        "                }\n",
        "            }\n",
        "        }\n",
        "    }\n",
        "  search_results = es.search(index = 'hello', body = query, size = 20)\n",
        " \n",
        "  corpus = []\n",
        "  idx = dict()\n",
        "\n",
        "  if len(search_results['hits']['hits']) != 0:\n",
        "\n",
        "    for j in range(len(search_results['hits']['hits'])):\n",
        "      corp = search_results['hits']['hits'][j]['_source']['text_right']\n",
        "      idx[j] = search_results['hits']['hits'][j]['_source']['id_right']\n",
        "      corpus.append(corp)\n",
        "    \n",
        "    top_k = min(20, len(corpus))\n",
        "    corpus_embeddings = embedder.encode(corpus, convert_to_tensor=True)\n",
        "    query_embedding = embedder.encode(q[i]['text_left'], convert_to_tensor = True)\n",
        "    cos_scores = util.cos_sim(query_embedding, corpus_embeddings)[0]\n",
        "    top_results = torch.topk(cos_scores, k=top_k)\n",
        "\n",
        "    for scoree, idxx in zip(top_results[0], top_results[1]):\n",
        "      doc_id = str(idx[int(idxx)])\n",
        "      score = float(scoree)\n",
        "      query_id = i\n",
        "      queries[doc_id] = score\n",
        "    \n",
        "    runs[str(q[i]['id_left'])] = queries\n",
        "\n",
        "    et = time.time()\n",
        "    elapsed_time = et - st\n",
        "    print(query_id, '\\t', elapsed_time, '\\t', queries.keys())\n"
      ],
      "metadata": {
        "colab": {
          "base_uri": "https://localhost:8080/"
        },
        "id": "-u-uDSJbIIlP",
        "outputId": "6d8c0947-1ec8-44b3-c70a-308594075002"
      },
      "execution_count": 172,
      "outputs": [
        {
          "output_type": "stream",
          "name": "stderr",
          "text": [
            "<ipython-input-172-af43fef2c434>:27: DeprecationWarning: The 'body' parameter is deprecated and will be removed in a future version. Instead use individual parameters.\n",
            "  search_results = es.search(index = 'hello', body = query, size = 20)\n"
          ]
        },
        {
          "output_type": "stream",
          "name": "stdout",
          "text": [
            "0 \t 3.876194715499878 \t dict_keys(['158491', '635537', '607552', '1880296', '1957435', '360918', '625257', '742912', '663828', '1774491', '2411344', '1093529', '685181', '1956922', '589549', '2261272', '945068', '1158969', '1170039', '1180246'])\n",
            "1 \t 4.229133605957031 \t dict_keys(['5728', '283099', '98452', '2149047', '79940', '1890681', '592647', '849904', '501880', '608495', '645822', '375146', '1893219', '970793', '1750830', '2184293', '911906', '255972', '1597007', '1404651'])\n",
            "2 \t 3.4031498432159424 \t dict_keys(['1354456', '13554', '506304', '166298', '1333624', '2164978', '1354099', '2164385', '2206256', '1231923', '1355603', '1604564', '107818', '1343180', '2108477', '1355975', '1070', '1354754', '1212060', '1354324'])\n",
            "3 \t 6.750439643859863 \t dict_keys(['1378846', '961758', '671380', '1317839', '968448', '784701', '834604', '375161', '1423812', '1415478', '1505849', '1572828', '958943', '693088', '870643', '910449', '1560729', '1151820', '1205770', '484924'])\n",
            "4 \t 5.876078128814697 \t dict_keys(['2186467', '855680', '1314997', '1325717', '1808681', '87050', '2382229', '1931448', '1512849', '1828795', '40342', '2328959', '2264449', '1248550', '1085516', '1712644', '2002272', '2178317', '2244630', '1789451'])\n",
            "5 \t 8.133225679397583 \t dict_keys(['5115', '1384004', '807376', '897966', '546166', '75643', '246563', '2216970', '549097', '368170', '1196497', '2270937', '481955', '585361', '1157462', '419556', '1337861', '242015', '364605', '367546'])\n",
            "6 \t 3.582385301589966 \t dict_keys(['15469', '975904', '2069564', '771772', '2405799', '1234860', '544571', '2102316', '1334817', '2392139', '841064', '1533382', '2149594', '2316444', '2235862', '1950839', '939854', '1260341', '2413345', '2365922'])\n",
            "7 \t 3.9170546531677246 \t dict_keys(['252433', '62953', '62992', '62956', '956952', '210440', '1193752', '1366881', '1144930', '756070', '289330', '524047', '1354574', '1256265', '1013750', '373568', '1335', '1576707', '2090336', '1184060'])\n",
            "8 \t 4.970293998718262 \t dict_keys(['1417315', '152444', '1150937', '1647163', '1120216', '1120072', '128064', '242736', '247573', '376703', '1225505', '279748', '2251234', '630058', '590437', '2124613', '1753570', '289563', '192182', '569398'])\n",
            "9 \t 4.76117467880249 \t dict_keys(['104086', '1464230', '1531009', '410658', '410883', '410882', '2283603', '1800147', '1548144', '1282288', '453448', '1547597', '1882766', '1735721', '1648450', '1327711', '2137798', '1439799', '1047983', '1196712'])\n",
            "10 \t 3.7068402767181396 \t dict_keys(['145194', '1091413', '926875', '1400670', '1260423', '1089847', '1916175', '2341007', '2431998', '2353524', '1497973', '2417601', '1904588', '485412', '930936', '2000075', '1939883', '406476', '565665', '1326446'])\n",
            "11 \t 3.7019693851470947 \t dict_keys(['1055223', '73752', '943266', '508040', '307312', '266565', '956809', '1335597', '1874805', '371021', '1800165', '550985', '309020', '2007275', '2068551', '814635', '269878', '1531852', '762321', '1769992'])\n",
            "12 \t 4.781686782836914 \t dict_keys(['1368508', '458039', '1965008', '370186', '471631', '1192490', '165829', '369736', '1919569', '918895', '1056618', '71915', '863780', '2438570', '395325', '470968', '358311', '335720', '1930068', '684519'])\n",
            "13 \t 3.936645984649658 \t dict_keys(['11534', '1191113', '1401323', '1981252', '1587853', '484328', '1065282', '2136745', '1065201', '1173607', '250744', '1855299', '1389683', '2142031', '1015758', '1448790', '103436', '2338258', '830759', '1477071'])\n",
            "15 \t 3.158217191696167 \t dict_keys(['58760', '28719', '1111437', '25174', '1423627', '2133267', '1150496', '1607914', '1974743', '346140', '1799168', '1779951', '1266248', '1585379', '698538', '1586750', '1588691', '1587324', '2136622', '1590488'])\n",
            "16 \t 5.26801323890686 \t dict_keys(['265104', '2029779', '2400759', '1908247', '2124794', '449885', '1652972', '1926522', '492119', '2332028', '412728', '2012802', '1311119', '933570', '1013750', '1794157', '995347', '2350161', '1741206', '1069600'])\n",
            "17 \t 3.7665178775787354 \t dict_keys(['139082', '2190431', '681579', '1416592', '2013876', '899391', '580534', '2086664', '335755', '1118190', '637318', '811190', '2261700', '2046771', '379093', '1442070', '2225931', '306445', '1228604', '2036034'])\n",
            "18 \t 3.5362319946289062 \t dict_keys(['37743', '1332929', '475352', '1441597', '1790529', '711725', '797625', '124560', '1504917', '215101', '1278740', '341138', '1434142', '1658870', '1966482', '71143', '2335851', '1385344', '1466087', '471836'])\n",
            "19 \t 3.0647635459899902 \t dict_keys(['207224', '2264779', '719047', '690240', '1579791', '2275565', '1762471', '2087933', '1386690', '411230', '1768198', '2021965', '1476355', '2021971', '784848', '1986030', '997372', '1132700', '1897859', '1018916'])\n",
            "20 \t 5.344861268997192 \t dict_keys(['1313611', '4397', '2428055', '25238', '1988889', '665971', '1166122', '1029512', '206592', '331039', '1037865', '1060264', '2364599', '1939753', '36229', '2159172', '2018023', '576624', '834076', '1909291'])\n",
            "21 \t 3.176976203918457 \t dict_keys(['641464', '700592', '87860', '1377532', '41402', '506062', '821616', '427924', '850209', '1810381', '455077', '911689', '455826', '715110', '1599970', '625698', '2039022', '2066896', '2320544', '850348'])\n",
            "22 \t 3.2168948650360107 \t dict_keys(['75295', '241786', '364279', '342835', '521342', '254961', '540204', '986624', '345821', '971307', '1017094', '525558', '2100615', '1071874', '1296235', '81837', '458105', '472853', '1682845', '1031295'])\n",
            "23 \t 3.19948410987854 \t dict_keys(['2591', '892874', '436662', '2424654', '2264589', '1784234', '582159', '572710', '892651', '2016023', '1105314', '1066903', '2038585', '1381497', '561734', '2078706', '605908', '975714', '1437418', '2016001'])\n",
            "24 \t 4.616206169128418 \t dict_keys(['1441161', '107590', '2067143', '1306913', '817179', '906264', '1736536', '443002', '1251990', '2057417', '474634', '2123567', '204379', '1966688', '1426746', '1307698', '1797920', '1748413', '1465552', '1839207'])\n",
            "25 \t 3.250330924987793 \t dict_keys(['362197', '2279898', '1779786', '1807126', '1935390', '1504613', '859831', '417420', '2315390', '764478', '736258', '758692', '1463296', '1903081', '466736', '2183597', '1819934', '394283', '2071128', '2318002'])\n",
            "26 \t 3.0011308193206787 \t dict_keys(['13540', '366979', '482039', '1096578', '1375318', '11448', '76033', '159999', '2301152', '1896606', '1047639', '2351243', '1855133', '341506', '503964', '1209770', '2087558', '2079516', '983473', '2118484'])\n",
            "27 \t 4.233063697814941 \t dict_keys(['19827', '25406', '1157500', '1033952', '1456119', '99336', '437417', '91920', '133762', '31498', '18591', '152530', '28504', '5441', '1101299', '403033', '675044', '515516', '2409167', '1915657'])\n",
            "28 \t 5.100232362747192 \t dict_keys(['128282', '519919', '412615', '2430187', '104267', '804139', '2426338', '1015024', '2421401', '1077589', '1023131', '399161', '2008539', '114212', '2444569', '408790', '1173422', '705158', '97527', '694386'])\n",
            "29 \t 4.8650617599487305 \t dict_keys(['267973', '674843', '1617486', '814532', '478850', '681709', '157511', '582099', '1426848', '842668', '240609', '2220887', '2085235', '1037144', '1457261', '1426878', '1578151', '1768098', '1071377', '633875'])\n",
            "30 \t 3.7527360916137695 \t dict_keys(['1065029', '1427537', '450625', '547584', '639848', '116217', '270094', '459547', '348999', '1369222', '529291', '481952', '155598', '1927588', '302391', '430852', '2340620', '634163', '433897', '376695'])\n",
            "31 \t 5.425054311752319 \t dict_keys(['998264', '350854', '1529629', '581916', '2005896', '1254203', '549650', '610420', '1076881', '1818214', '289186', '2213129', '2145933', '596738', '148130', '463153', '2405900', '592338', '945258', '164285'])\n",
            "32 \t 4.2676708698272705 \t dict_keys(['1160715', '1542354', '1500648', '1513327', '471746', '1739141', '985694', '2407145', '1542360', '2322013', '1293152', '1615716', '23500', '2324603', '1552578', '2448630', '412024', '419018', '1097663', '41362'])\n",
            "33 \t 5.5304529666900635 \t dict_keys(['113000', '1923335', '225253', '551422', '1832124', '1007024', '191318', '1765674', '363054', '525590', '1813742', '706466', '789077', '267253', '383380', '2159045', '418993', '1188250', '1195536', '1932091'])\n",
            "34 \t 4.055220127105713 \t dict_keys(['87860', '926785', '2184544', '580397', '2222036', '2038118', '1661477', '259222', '475752', '2042194', '22478', '2099882', '1761948', '930681', '1338265', '1034656', '2055006', '2167567', '481315', '2104922'])\n",
            "35 \t 3.6200108528137207 \t dict_keys(['25983', '1290142', '2355672', '121767', '168668', '1234487', '845675', '277998', '1376620', '768117', '1146947', '2089283', '1377694', '846099', '654454', '1753001', '587284', '1895032', '1955906', '1301081'])\n",
            "36 \t 3.3038713932037354 \t dict_keys(['860561', '1493030', '1107901', '930740', '304836', '1203539', '1701607', '1702723', '2350168', '219030', '458377', '71861', '2226093', '885597', '2080597', '1689428', '1350511', '2218603', '1587481', '204262'])\n",
            "37 \t 3.5770838260650635 \t dict_keys(['1734241', '475794', '444952', '351199', '765147', '978858', '1675763', '726364', '758155', '975485', '1130591', '2384921', '878346', '344222', '748133', '386709', '768207', '758326', '369524', '1549907'])\n",
            "38 \t 5.0800347328186035 \t dict_keys(['81083', '216846', '54726', '1261042', '2387643', '681618', '967518', '490873', '2119831', '536101', '103742', '809654', '720549', '335521', '532819', '2285196', '1061887', '2437899', '2193034', '872041'])\n",
            "39 \t 4.59264349937439 \t dict_keys(['843593', '367711', '2356968', '454833', '601814', '799516', '602620', '632012', '970808', '2387224', '1671472', '1571476', '602053', '480131', '2205730', '309161', '726168', '1608281', '802729', '331292'])\n",
            "40 \t 9.01432728767395 \t dict_keys(['7169', '7078', '10038', '1139195', '134233', '2082603', '1819379', '283713', '1183351', '2415472', '505235', '75596', '1821564', '128516', '2335644', '128523', '88435', '73983', '357298', '161354'])\n",
            "41 \t 3.1352715492248535 \t dict_keys(['13690', '1121532', '1900805', '1502365', '1627034', '1032490', '2093479', '1960848', '1021425', '649887', '2166599', '2075501', '645450', '1126365', '1942564', '1192420', '2239360', '281408', '2062276', '1356524'])\n",
            "42 \t 3.2867114543914795 \t dict_keys(['8140', '1118479', '771711', '490689', '1118476', '830373', '1426551', '1032777', '692822', '620999', '1383258', '1418176', '1032799', '708970', '1113226', '468703', '73864', '2205302', '94256', '694773'])\n",
            "43 \t 3.7758569717407227 \t dict_keys(['498419', '206019', '1270785', '942063', '1009208', '1838033', '1397010', '1347278', '247969', '1825388', '1334440', '1529391', '2199706', '1135926', '1665883', '1328726', '142326', '571708', '1214622', '1164436'])\n",
            "44 \t 4.526620626449585 \t dict_keys(['104453', '640355', '615389', '757440', '2362111', '1446187', '180299', '419231', '2191016', '2380674', '694802', '1072771', '1895884', '679926', '1171613', '411595', '409924', '2358404', '1491235', '823716'])\n",
            "45 \t 3.728523015975952 \t dict_keys(['775433', '160275', '1864073', '149453', '1610881', '1605097', '2152537', '647655', '1133047', '279724', '996800', '1961054', '529546', '420544', '784251', '238490', '972508', '1058253', '1095164', '2351984'])\n",
            "46 \t 3.9746599197387695 \t dict_keys(['996687', '243964', '666809', '341993', '666813', '1255489', '246055', '649454', '481952', '1735641', '687049', '679340', '392691', '1834069', '887629', '1577018', '1509164', '677692', '137334', '2053858'])\n",
            "47 \t 4.657977819442749 \t dict_keys(['1062953', '706385', '121384', '491690', '786719', '258785', '948116', '2026978', '264081', '358356', '1790226', '1611688', '245123', '1597973', '1858222', '411145', '868257', '925826', '1129724', '1704342'])\n",
            "48 \t 3.3844211101531982 \t dict_keys(['87686', '1157199', '2058032', '1055264', '1374014', '2058748', '976192', '1615040', '503404', '1008719', '966769', '67554', '2360876', '75013', '1622162', '2213553', '529269', '1817445', '364455', '118884'])\n",
            "49 \t 3.901050567626953 \t dict_keys(['410859', '1248605', '2193366', '617295', '2235789', '1402089', '2218906', '1966054', '1403393', '499876', '691699', '792598', '2211780', '692721', '2205018', '2233467', '790685', '790751', '1553828', '2390175'])\n",
            "50 \t 3.7777318954467773 \t dict_keys(['108909', '2281021', '1779265', '485246', '575162', '113565', '852957', '1424615', '1450812', '1076780', '2141042', '1965133', '134057', '1991302', '238020', '1898633', '510037', '2150709', '926237', '2344470'])\n",
            "51 \t 4.4823620319366455 \t dict_keys(['92044', '1144486', '294135', '1967213', '848076', '343413', '1272986', '217783', '920018', '1371580', '229323', '426583', '1721593', '412323', '852657', '813814', '633169', '1319887'])\n",
            "52 \t 3.3636131286621094 \t dict_keys(['371437', '336506', '1125372', '1992216', '1095695', '1026583', '1097635', '1089950', '199552', '1416899', '2303441', '1077262', '1072365', '565706', '1121124', '1861181', '1031250', '911609', '1267694', '719829'])\n",
            "53 \t 3.97890567779541 \t dict_keys(['151303', '350094', '1258999', '240760', '2271047', '2147494', '2372829', '2236373', '326096', '830005', '331770', '575152', '400659', '1057425', '1399832', '712160', '1993287', '1124451', '1028738', '2110400'])\n",
            "54 \t 4.86358380317688 \t dict_keys(['101626', '1684402', '487866', '2011331', '281878', '1685865', '535382', '2353406', '2009739', '1284191', '850140', '1337804', '2040102', '858945', '1356891', '414068', '2302732', '1341775', '2025756', '531730'])\n",
            "55 \t 4.156434059143066 \t dict_keys(['2242864', '1644901', '2314280', '2179154', '444531', '1720124', '1597469', '1472223', '1280608', '2290384', '415591', '1203043', '679267', '2045218', '2237246', '1407635', '301994', '333226', '1969292', '952315'])\n",
            "56 \t 3.966278314590454 \t dict_keys(['17656', '2063690', '2315815', '267726', '665351', '2040919', '2289419', '1860758', '373938', '1379750', '1371866', '978667', '830257', '854728', '1418457', '5767', '1855650', '2370222', '2358546', '2031198'])\n",
            "57 \t 3.671780586242676 \t dict_keys(['15514', '146744', '1030250', '2442369', '1117132', '460758', '1847955', '1930726', '1190652', '1140731', '1551191', '1022254', '556914', '1759320', '207346', '851416', '2246133', '2276783', '527984', '2143933'])\n",
            "58 \t 4.74212384223938 \t dict_keys(['1254734', '1135690', '609296', '1473775', '1689996', '2221060', '1284106', '665239', '903289', '2320121', '2366973', '301685', '1958517', '279884', '1993244', '262844', '1808305', '655165', '878717', '2192121'])\n",
            "59 \t 3.105700969696045 \t dict_keys(['452331', '1238278', '1870123', '1216395', '1486324', '1929235', '381170', '346813', '1642847', '2044925', '1686317', '2043276', '2427078', '2198623', '205497', '334235', '657820', '533774', '438356', '485648'])\n",
            "60 \t 4.0471510887146 \t dict_keys(['21645', '7771', '28652', '2300832', '2214831', '307600', '468886', '668617', '1267380', '2323560', '376374', '1975775', '23060', '1484557', '514159', '1138508', '2245601', '1531824', '510236', '711897'])\n",
            "61 \t 3.6706695556640625 \t dict_keys(['1280405', '1098214', '2114191', '1986968', '2119230', '1485477', '1798822', '1482020', '692168', '193249', '691670', '2238522', '265015', '366781', '1804962', '696170', '1514804', '301661', '1684957', '1329465'])\n",
            "62 \t 4.4438958168029785 \t dict_keys(['796802', '2316260', '32559', '791763', '606510', '459069', '144905', '394192', '1333272', '1291875', '93012', '846082', '1273752', '1606074', '268583', '2264821', '17400', '1315167', '2428394', '1597973'])\n",
            "63 \t 3.5620813369750977 \t dict_keys(['34939', '352063', '1179910', '600258', '709143', '880818', '944171', '1604968', '1430547', '2088983', '165719', '1408283', '120801', '417759', '2144644', '961349', '1238558', '694114', '1593792', '1278270'])\n",
            "64 \t 3.335875988006592 \t dict_keys(['174151', '1828673', '430211', '641373', '1205733', '1918715', '2241562', '1040696', '1186514', '368642', '2369425', '2350052', '2382679', '1240331', '2350903', '1510345', '1068365', '2451799', '2436942', '115967'])\n",
            "65 \t 3.8864097595214844 \t dict_keys(['4900', '1858796', '2064714', '347207', '1445071', '617105', '1227346', '2326221', '973440', '2292393', '1439087', '1322917', '2334631', '1217601', '1879210', '1374404', '325041', '1961850', '1037110', '1945210'])\n",
            "66 \t 3.886381149291992 \t dict_keys(['1886126', '10166', '472366', '2340336', '2139314', '2172103', '971457', '679674', '1170756', '297836', '308463', '2396724', '705752', '1377964', '2410953', '1942418', '1589718', '1269458', '1557573', '241664'])\n",
            "67 \t 3.2671375274658203 \t dict_keys(['734188', '25726', '1312021', '976965', '510117', '2352514', '591565', '2066646', '1941332', '280547', '1773585', '1073011', '622623', '1693789', '2117935', '1477595', '1837912', '1663968', '1692250', '1758435'])\n",
            "68 \t 3.316148281097412 \t dict_keys(['122253', '262305', '190642', '92371', '1854956', '550046', '376388', '1509164', '1136741', '345300', '354369', '195938', '1783982', '373618', '754736', '649454', '634163', '429222', '639848', '358173'])\n",
            "69 \t 4.964528560638428 \t dict_keys(['1352798', '1552623', '1667404', '2347077', '1705736', '2303321', '1789981', '1676489', '1473792', '1865372', '1852382', '1679778', '1269463', '1317466', '860983', '212272', '2045402', '2261065', '1437647', '2038513'])\n",
            "70 \t 4.012712478637695 \t dict_keys(['14410', '23846', '86124', '1159840', '1350487', '1009258', '439235', '1110855', '973079', '201915', '757120', '283216', '870326', '154297', '1173294', '569629', '1062855', '2005565', '1608868', '91146'])\n",
            "71 \t 3.453057050704956 \t dict_keys(['23920', '424330', '804964', '2285025', '322525', '2010989', '2341047', '1647337', '1505674', '2358280', '2330754', '963776', '846878', '233332', '588733', '1989155', '1435673', '951593', '2412659', '514297'])\n",
            "72 \t 0.8674600124359131 \t dict_keys(['2199815', '141491', '426292', '1112200', '228744'])\n",
            "73 \t 4.07817268371582 \t dict_keys(['590065', '1170310', '581793', '905457', '333396', '1127542', '617544', '1163970', '196387', '1127706', '1938028', '1127500', '580150', '764292', '1311075', '581099', '1126463', '1578384', '1668686', '1535670'])\n",
            "74 \t 4.6028892993927 \t dict_keys(['25130', '1385260', '1114179', '576623', '1314194', '1352062', '1935967', '1791441', '1348605', '1504317', '1339117', '1822051', '371783', '797254', '656', '901222', '1809541', '414514', '883035', '324973'])\n",
            "75 \t 4.129405498504639 \t dict_keys(['28232', '300185', '2289213', '778621', '438395', '228631', '1171499', '99140', '1743438', '278630', '2403738', '501846', '1957735', '2187326', '204520', '2361217', '293054', '2256656'])\n",
            "76 \t 3.5201773643493652 \t dict_keys(['16952', '1256386', '868194', '1864305', '688960', '2191636', '1489058', '2007130', '2270999', '2061524', '864074', '1363165', '1011401', '2374445', '1815781', '1383054', '378359', '1654083', '1066898', '1106097'])\n",
            "77 \t 4.292621850967407 \t dict_keys(['28485', '709670', '493972', '631234', '644212', '369299', '327869', '329139', '606570', '629683', '476375', '210277', '810807', '485941', '422464', '1138870', '2298445', '19315', '1931870', '40673'])\n",
            "78 \t 4.351605176925659 \t dict_keys(['113827', '113836', '113823', '650982', '25063', '541973', '628912', '854503', '929246', '1176773', '1083165', '2380284', '1303473', '1379559', '2381948', '1703690', '2226640', '1183703', '1286672', '1392525'])\n",
            "79 \t 4.084713935852051 \t dict_keys(['32219', '1973651', '968936', '1514952', '643883', '1382229', '1031282', '1614660', '1436924', '1137902', '277454', '1729959', '2353152', '1262289', '1546536', '1739108', '1032328', '146349', '143582', '1477696'])\n",
            "80 \t 4.374529123306274 \t dict_keys(['1410805', '2264766', '279407', '278573', '1450758', '72607', '533481', '1009934', '503299', '1748468', '1048219', '742391', '2289542', '2200715', '488650', '874597', '595746', '1828695', '240610', '1825708'])\n",
            "81 \t 4.700617790222168 \t dict_keys(['974650', '1006905', '124119', '835914', '862481', '1765785', '481870', '555369', '2303426', '1413449', '742210', '1857795', '830388', '1290550', '2277678', '476405', '1244357', '367969', '477061', '1084329'])\n",
            "82 \t 3.2548367977142334 \t dict_keys(['34875', '2127341', '35538', '127982', '2072713', '1876203', '124779', '1778256', '1163068', '2059947', '558438', '1947319', '156646', '156186', '1640804', '232614', '370248', '1894724', '2190073', '127852'])\n",
            "83 \t 4.038334369659424 \t dict_keys(['7911', '153632', '938283', '2424742', '2359539', '8546', '2057350', '2255878', '1279298', '1784641', '1606366', '1673302', '109939', '2109190', '1612640', '659784', '1396336', '1566470', '2394203', '1140583'])\n",
            "84 \t 4.824461936950684 \t dict_keys(['8630', '2041354', '8314', '275835', '1199365', '110421', '98398', '1922717', '1882271', '2139539', '2143428', '1378581', '172913', '2060362', '2436104', '1346503', '910737', '1503471', '2143292', '279046'])\n",
            "85 \t 4.407991170883179 \t dict_keys(['422206', '1597491', '1285105', '437829', '1527671', '1492778', '249349', '1441616', '1094400', '438343', '1554293', '1865777', '2194768', '720227', '2175181', '1444365', '2176648', '2346779', '2090395', '1670981'])\n",
            "86 \t 3.9999043941497803 \t dict_keys(['553675', '84057', '81416', '1814115', '956539', '2372915', '1701594', '2285573', '305627', '370804', '490650', '1378424', '802979', '1443601', '809543', '1680541', '1578355', '815037', '1839227', '364112'])\n",
            "87 \t 4.84379506111145 \t dict_keys(['28106', '1761906', '2032618', '1774669', '1152000', '1300226', '1308752', '662803', '1971260', '1748654', '1775137', '1422654', '658587', '786267', '2090961', '1042641', '2214396', '1238616', '2194863', '1175128'])\n",
            "88 \t 3.8962175846099854 \t dict_keys(['1612267', '867024', '1035337', '424913', '580325', '1991853', '1631481', '1991630', '2325440', '863869', '1625934', '1448233', '821438', '1026929', '112890', '1762896', '2209005', '624671', '1827696', '951338'])\n",
            "89 \t 4.315734386444092 \t dict_keys(['125791', '766977', '727078', '140099', '222252', '703323', '765063', '1218924', '945857', '1334040', '1935160', '2081847', '1526842', '742615', '846300', '1992343', '1809840', '1175373', '925834', '1377447'])\n",
            "90 \t 3.3359551429748535 \t dict_keys(['294384', '832060', '415694', '430971', '1600932', '755586', '2224122', '1096701', '1630942', '2252658', '2379048', '2244876', '1252847', '461291', '1855524', '2187180', '1829997', '2325053', '1533835', '1822376'])\n",
            "91 \t 4.515142202377319 \t dict_keys(['2219161', '470620', '1671503', '586571', '1428792', '1809505', '1925820', '815540', '846533', '458571', '1714875', '323867', '1434592', '1764447', '2237895', '1876581', '1185407', '573873', '1663618', '354956'])\n",
            "92 \t 3.462479591369629 \t dict_keys(['237831', '2149564', '1200546', '1145063', '717351', '2161109', '2167993', '37032', '818917', '1554624', '1553762', '222079', '1696345', '2098236', '1750727', '124913', '1944818', '634474', '557965', '1179996'])\n",
            "93 \t 4.327987194061279 \t dict_keys(['2161', '1469632', '1625247', '723518', '1528804', '1125722', '1427853', '855572', '159238', '639371', '1257220', '1932297', '728767', '2419987', '2213346', '169702', '92354', '245926', '916054', '2348965'])\n",
            "94 \t 3.316539764404297 \t dict_keys(['807020', '42711', '833588', '186680', '1035106', '1236822', '1893375', '1556967', '1242066', '1557986', '684065', '42699', '1516895', '1329982', '830706', '544567', '574274', '498882', '1249097', '1801324'])\n",
            "95 \t 4.796358346939087 \t dict_keys(['132041', '1613884', '1265695', '109890', '1272300', '397050', '1272164', '1901343', '1272298', '1265873', '2139127', '1778407', '1240052', '2028917', '1549073', '1522293', '458180', '1371336', '1433479', '1338743'])\n",
            "96 \t 3.4975316524505615 \t dict_keys(['2136797', '2422061', '1250916', '98152', '1498253', '650795', '2108130', '2435429', '2397975', '2398980', '486228', '2422440', '246789', '2443748', '1728468', '2211121', '1841968', '865902', '2319375', '1548108'])\n",
            "97 \t 3.1225287914276123 \t dict_keys(['568878', '665508', '411758', '2111939', '570822', '301834', '369820', '714086', '364401', '365071', '2116272', '354854', '1870178', '361286', '993971', '536315', '540972', '383213', '1980448', '608307'])\n",
            "98 \t 3.9614577293395996 \t dict_keys(['1313598', '1640999', '820373', '2004130', '830231', '2313314', '2008517', '2232532', '282689', '1754443', '752997', '919776', '877307', '533560', '566063', '2359604', '1129510', '764478', '224688', '1141767'])\n",
            "99 \t 4.103001117706299 \t dict_keys(['2156586', '409520', '712704', '845186', '2004825', '231588', '2278764', '913062', '2228208', '84615', '861021', '587740', '513731', '589558', '498185', '1696966', '2066479', '1283806', '366791', '895966'])\n"
          ]
        }
      ]
    },
    {
      "cell_type": "markdown",
      "source": [
        "## PART 2 EVALUATION"
      ],
      "metadata": {
        "id": "r82VjyI1JJic"
      }
    },
    {
      "cell_type": "code",
      "source": [
        "#  Qrel(query_id='13540', doc_id='1276852', relevance=1, iteration='0'),\n",
        "\n",
        "qrels = ir_measures.read_trec_qrels('/content/qrels')\n",
        "qrels_ = dict()\n",
        "qrels_new = dict()\n",
        "for i in list(qrels):\n",
        "  query_id = i[0]\n",
        "  doc_id = i[1]\n",
        "  relevance = i[2]\n",
        "  qrels_[doc_id] = relevance\n",
        "  qrels_new[query_id] = qrels_"
      ],
      "metadata": {
        "id": "AMJdekE5rgu3"
      },
      "execution_count": 173,
      "outputs": []
    },
    {
      "cell_type": "code",
      "source": [
        "scores = ir_measures.calc_aggregate([P(rel=1)@10, P(rel=1)@20, AP], qrels_new, runs)\n",
        "scores"
      ],
      "metadata": {
        "colab": {
          "base_uri": "https://localhost:8080/"
        },
        "id": "gWkMS8HxDHLH",
        "outputId": "77633e24-eead-4ff4-b4d8-8110a1937471"
      },
      "execution_count": 174,
      "outputs": [
        {
          "output_type": "execute_result",
          "data": {
            "text/plain": [
              "{AP: 0.00045862085630015234,\n",
              " P@10: 0.2419999999999999,\n",
              " P@20: 0.1640000000000001}"
            ]
          },
          "metadata": {},
          "execution_count": 174
        }
      ]
    },
    {
      "cell_type": "code",
      "source": [
        "# [ScoredDoc(query_id='158491', doc_id='625257', score=15.660703104969318),\n",
        "\n",
        "bm25 = ir_measures.read_trec_run('/content/BM25.res')\n",
        "bm25_ = dict()\n",
        "creators_runs = dict()\n",
        "for i in list(bm25):\n",
        "  query_id = i[0]\n",
        "  doc_id = i[1]\n",
        "  score = i[2]\n",
        "  bm25_[doc_id] = score\n",
        "  creators_runs[query_id] = bm25_"
      ],
      "metadata": {
        "id": "MiUEvMwyLTF-"
      },
      "execution_count": 175,
      "outputs": []
    },
    {
      "cell_type": "code",
      "source": [
        "scores = ir_measures.calc_aggregate([P(rel=1)@10, P(rel=1)@20, AP], qrels_new, creators_runs)\n",
        "scores"
      ],
      "metadata": {
        "colab": {
          "base_uri": "https://localhost:8080/"
        },
        "id": "CnYD8SDd88tn",
        "outputId": "b19b64f6-15ec-4f0a-c0c4-8bdd67457eed"
      },
      "execution_count": 176,
      "outputs": [
        {
          "output_type": "execute_result",
          "data": {
            "text/plain": [
              "{AP: 0.010808749000016847, P@10: 0.3000000000000005, P@20: 0.3000000000000005}"
            ]
          },
          "metadata": {},
          "execution_count": 176
        }
      ]
    }
  ]
}